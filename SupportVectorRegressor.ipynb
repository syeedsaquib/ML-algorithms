{
  "nbformat": 4,
  "nbformat_minor": 0,
  "metadata": {
    "colab": {
      "provenance": []
    },
    "kernelspec": {
      "name": "python3",
      "display_name": "Python 3"
    },
    "language_info": {
      "name": "python"
    }
  },
  "cells": [
    {
      "cell_type": "code",
      "execution_count": 1,
      "metadata": {
        "id": "5O5eAzN41g29"
      },
      "outputs": [],
      "source": [
        "import numpy as np\n",
        "import pandas as pd\n",
        "import matplotlib.pyplot as plt\n",
        "import seaborn as sns\n",
        "from sklearn.datasets import make_regression"
      ]
    },
    {
      "cell_type": "code",
      "source": [
        "X,y=make_regression(n_samples=1000,n_features=2,n_targets=1,noise=3.0)"
      ],
      "metadata": {
        "id": "dlej5tTj2flq"
      },
      "execution_count": 3,
      "outputs": []
    },
    {
      "cell_type": "code",
      "source": [
        "X"
      ],
      "metadata": {
        "colab": {
          "base_uri": "https://localhost:8080/"
        },
        "id": "TczoB_kh4heQ",
        "outputId": "91166872-d77b-4da1-9010-dac4be216fcf"
      },
      "execution_count": 4,
      "outputs": [
        {
          "output_type": "execute_result",
          "data": {
            "text/plain": [
              "array([[ 0.54665119,  0.13290063],\n",
              "       [-0.88682954,  1.08396029],\n",
              "       [ 0.25312138, -0.72315281],\n",
              "       ...,\n",
              "       [ 1.84752434, -0.19635544],\n",
              "       [ 1.09965823, -0.17179152],\n",
              "       [ 0.87838371,  0.28488996]])"
            ]
          },
          "metadata": {},
          "execution_count": 4
        }
      ]
    },
    {
      "cell_type": "code",
      "source": [
        "y"
      ],
      "metadata": {
        "colab": {
          "base_uri": "https://localhost:8080/"
        },
        "id": "VenRlpsr4ofI",
        "outputId": "21aca32d-114e-4a2c-bfdb-f2fcdab0d993"
      },
      "execution_count": 5,
      "outputs": [
        {
          "output_type": "execute_result",
          "data": {
            "text/plain": [
              "array([ 3.29430943e+01,  4.48808054e+01, -4.16258890e+01,  6.75645665e+00,\n",
              "        8.92373133e+01,  9.58272806e+01,  1.08541999e+02,  8.99435450e+01,\n",
              "       -7.45907326e+00, -1.93002789e+01,  6.65529855e+01,  4.16085732e+01,\n",
              "        1.70636834e+02, -1.15003769e+01, -1.22310183e+02, -1.17882132e+02,\n",
              "        3.84136157e+01,  1.56898916e+02, -1.64069602e+02,  2.31928757e+01,\n",
              "        1.02090842e+02,  5.76457969e+00,  5.37288973e+01, -8.36406566e+01,\n",
              "       -2.73718561e+01,  1.20421676e+01,  9.32139077e+01,  2.11617846e+00,\n",
              "        6.77101758e+01, -1.49491728e+02, -3.70479902e+01, -2.00777559e+01,\n",
              "       -5.11938223e+00, -4.76692329e+01, -2.73962540e+01,  1.36496518e+02,\n",
              "       -5.02380151e+01, -1.19547727e+02, -3.68773667e+00,  8.58662167e+01,\n",
              "       -1.22055061e+02,  5.30362874e+01,  2.15452090e+01, -1.17210994e+01,\n",
              "        2.07756674e+01,  6.06691685e+01,  3.57061375e+01,  7.49988967e+00,\n",
              "        1.81604998e+01,  9.68263581e+01, -1.24442940e+01,  1.01108101e+02,\n",
              "       -6.00671781e+01, -2.63958004e+01,  8.44414977e+01,  7.64113027e+01,\n",
              "       -1.28591915e+01, -2.21248561e+01,  6.26846053e+01,  1.39929399e+02,\n",
              "        1.73926691e+00,  9.88049193e+01, -6.50470312e+01, -6.87094624e+01,\n",
              "        3.97748605e+01, -3.02654921e+01, -1.78167031e+02, -1.98357812e+01,\n",
              "        3.29566883e+01,  6.68218439e+01, -1.46175063e+01,  9.39506624e+01,\n",
              "        2.09694016e+01, -8.57574975e+01,  4.54061154e+01, -5.80702650e+01,\n",
              "        1.11090784e+01,  1.02736445e+02, -7.96949321e+01,  1.03878795e+02,\n",
              "        2.03293023e+02, -6.10739931e+01, -1.84662864e+01,  8.22313020e+01,\n",
              "        5.87441595e+01,  5.84244989e+01,  7.00751108e+01, -1.35839103e+02,\n",
              "       -9.75690058e+01,  2.21015120e+02,  6.03561569e+01, -5.19920444e+01,\n",
              "        1.72843213e+02,  6.90520016e+01,  1.79978678e+02, -7.43993310e+01,\n",
              "        1.23233790e+02,  1.18949029e+02, -7.17765492e+01, -8.50120162e+01,\n",
              "        1.25694969e+02,  3.15980604e+01,  1.11982639e+01,  3.54513299e+01,\n",
              "        3.10490819e+01,  7.12634954e+01, -2.42889730e+01,  1.42218445e+02,\n",
              "        2.99804909e+01, -1.84842380e+01,  3.33151471e+01, -2.04335491e+01,\n",
              "       -2.07967963e+02,  1.08131353e+01,  1.23810049e+02, -4.86339966e+01,\n",
              "       -2.27450449e+02,  1.20256345e+00,  6.65184211e+00, -8.00376246e+01,\n",
              "       -2.89515938e+01,  9.07738560e+01, -3.33958620e+01, -8.81275004e+01,\n",
              "        1.12140589e+02,  9.55655325e+01, -6.45864089e+01, -2.89648068e-01,\n",
              "        1.51736140e+02,  8.03135986e+01,  1.43546046e+01,  4.90094850e+01,\n",
              "       -3.56461638e+01, -1.19825006e+02,  3.60279104e+01,  9.49015375e+01,\n",
              "        9.78323123e+01,  5.50332565e+01,  2.02524028e+01, -4.21003946e+01,\n",
              "        1.71584927e+01, -1.97779144e+01, -5.80325395e+01, -5.37478427e+00,\n",
              "        7.97778362e+01, -1.92016716e+01,  1.75726270e+01, -2.56314293e+01,\n",
              "       -2.83747370e+01,  1.25024301e+02,  1.65689037e+00,  4.97843202e+01,\n",
              "       -7.22030004e+00, -1.21443826e+02, -4.46056761e+01,  1.03716388e+02,\n",
              "       -2.18982491e+01, -1.08944675e+02,  5.33955676e+01, -4.62300518e+01,\n",
              "       -9.66924770e+01,  1.83159463e+01, -6.68320919e-01, -4.84790356e+01,\n",
              "        1.13609669e+01, -9.14747890e+01, -3.24272824e+01, -6.79798890e+01,\n",
              "        2.63800562e+01,  7.09647375e+01,  1.53655172e+02,  9.02630414e+01,\n",
              "       -5.06771357e+01,  5.14363554e+01,  1.50587135e+02, -9.90194137e+01,\n",
              "        6.64788014e+01,  1.79499949e+01, -6.04043080e+01, -7.33764988e+01,\n",
              "       -3.59746420e+01,  1.75794474e+02,  2.43484818e+01, -7.67848089e+01,\n",
              "        5.56031614e+01,  1.65779146e+02,  8.62118647e+01, -6.21394332e+01,\n",
              "       -4.47342652e+01,  2.16828716e+01,  1.27830252e+02, -1.65457271e+01,\n",
              "        7.08910696e+01,  1.75526770e+01, -6.32231431e+01, -4.19817523e+01,\n",
              "        1.83867495e+02,  1.51359078e+02, -4.90553939e+01, -1.78344145e+01,\n",
              "        1.27165864e+01,  5.82310238e+01, -7.60555142e+01,  1.27730465e+02,\n",
              "       -5.73215269e+01, -4.79027673e+01,  4.54798916e+01, -6.17080978e+00,\n",
              "       -1.28209918e+02, -5.89108021e+01,  1.31706288e+02, -1.10517420e+02,\n",
              "        1.00069777e+02, -3.83550874e+01,  4.88666028e+01,  4.99390674e+01,\n",
              "       -1.29105956e+01,  1.47997254e+01, -1.11942282e+02, -5.79339810e+01,\n",
              "        2.65369278e+01, -9.80046568e+01, -8.31322620e+01,  4.04676380e+01,\n",
              "       -6.71181371e+01, -7.82658857e+01, -8.92468129e+01, -4.26712152e+00,\n",
              "       -1.04189861e+02,  5.25095147e+01, -4.21601356e+01, -9.54568669e+00,\n",
              "       -2.67910300e+01,  2.37198317e+01,  1.75788004e+02,  1.78902431e+01,\n",
              "       -5.30682848e+01,  2.74156952e+02, -1.65574987e+02,  1.14262652e+02,\n",
              "        1.33028669e+02, -1.60311703e+00,  1.06369975e+02,  2.63596436e+01,\n",
              "       -9.94230912e+00,  2.02745332e+01, -9.46392185e+01, -2.42891651e+01,\n",
              "       -4.42122702e+01, -1.28885780e+01, -5.83106931e+01, -1.25583886e+02,\n",
              "        1.29048478e+02,  3.03417747e+01, -8.17280774e+01, -4.81023564e+01,\n",
              "        6.02808459e+01,  9.72020514e+01,  2.69196354e+01,  1.09952596e+02,\n",
              "        8.63141738e+01, -6.07693614e+01,  3.45498927e+01,  1.73601567e+02,\n",
              "        5.01660775e+01,  9.75685163e+01,  2.41155478e+02, -3.67904452e+01,\n",
              "       -1.30869623e+02, -6.98085187e+01, -9.78560495e+01, -7.45758410e+00,\n",
              "       -1.02319421e+02,  2.89647657e+01,  2.03837934e+01,  6.00828556e+01,\n",
              "       -7.52197753e+01, -3.15534826e+01, -5.51861561e+01,  6.03077866e+01,\n",
              "        1.42095811e+02,  9.86856116e+00, -1.83688000e+02, -3.25725995e+01,\n",
              "        1.11124490e+02,  6.95839053e+01, -3.98929165e+01,  1.17848984e+02,\n",
              "       -1.00272752e+02, -8.21034773e+01, -5.10585122e+01, -1.67045410e+02,\n",
              "        8.97378903e+01, -9.16516474e+01, -6.01494532e+01, -1.42718656e+02,\n",
              "       -1.04017929e+01, -1.88055365e+01,  3.30622348e+01, -4.56142592e+01,\n",
              "       -4.03421255e+01,  1.30103978e+02,  8.61066017e+01,  1.29459667e+02,\n",
              "       -1.42048890e+02, -1.93297939e+02,  7.66131886e+01, -1.06351363e+02,\n",
              "        1.11038000e+02,  6.89163317e+01, -7.43226212e+01,  1.94736017e+01,\n",
              "        3.85878512e+01,  1.13021486e+00,  1.47765942e+01, -1.01594363e+02,\n",
              "       -4.98340377e+01, -1.50948119e+02,  1.69766276e+02, -2.37470951e+01,\n",
              "        1.53888630e+01, -5.37880086e+01,  6.55052932e+01, -2.62743961e+01,\n",
              "        1.02835660e+02,  5.40088184e+01,  2.42101215e+01,  3.61288844e+01,\n",
              "       -1.31681063e+02, -3.76145253e+01,  8.91763981e+01,  1.84628758e+02,\n",
              "        2.82584899e+01,  2.56843587e+01,  5.21077390e+00, -1.18089579e+02,\n",
              "       -4.42961319e+01, -1.07366944e+02, -5.61178898e+01, -2.48026527e+01,\n",
              "       -7.89406907e+01, -5.96756474e+01, -2.73371205e+01,  6.77911458e+01,\n",
              "       -5.25390774e+01, -1.69305428e+01,  1.13513022e+02,  3.20874809e+01,\n",
              "       -6.52216657e+01, -5.49865430e+01,  1.59571707e+01,  1.37706862e+02,\n",
              "       -5.63951639e+01, -2.31235675e+01,  5.35259919e+01,  3.55942905e+01,\n",
              "        1.08350256e+02, -2.94733852e+01,  6.68882765e+00,  7.00389476e+00,\n",
              "        4.58121728e+01,  5.09833373e+01,  8.25060793e-01,  5.06601058e+00,\n",
              "       -7.66521388e+00, -5.73858830e+01, -1.19601688e+02, -6.20908090e+01,\n",
              "        5.53906328e+01, -1.43374302e+02, -1.25140514e+01,  3.01152389e+01,\n",
              "       -5.20708618e+01,  2.36691130e+01,  2.26525166e+02, -2.06191953e+02,\n",
              "        8.23658025e+01,  1.35472592e+01, -9.55344674e+01,  7.40807921e+01,\n",
              "        3.69472237e+01,  5.18235601e+01,  4.34885148e+01,  1.79947953e+02,\n",
              "       -1.88250007e+02, -6.66191107e+01,  8.67846804e+01, -3.00474082e+01,\n",
              "       -7.51669976e+01, -1.25383760e+02, -1.03025892e+01, -5.73646178e+01,\n",
              "        1.34284455e+01, -9.51324688e+01,  1.42851518e+01, -3.47974802e+01,\n",
              "        2.11950644e+02,  1.09159649e+02,  9.01939106e+00, -7.53829453e+01,\n",
              "       -4.97578256e+01,  6.84658007e+01,  5.62858773e+01, -6.82292641e+00,\n",
              "        1.40039522e+02,  1.18550980e+02,  4.63670938e+01,  1.46113756e+02,\n",
              "       -6.22332954e+01, -1.28596077e+01,  7.13742561e+01,  2.14490577e+00,\n",
              "       -1.44878185e+01,  6.13123605e+01,  1.91484596e+01, -4.77704558e+01,\n",
              "        2.20385738e+01, -6.17138724e+01,  8.53849687e+01,  9.25000793e+01,\n",
              "       -4.93516975e+01, -2.87280294e+01, -6.65646772e+01,  8.78950255e+01,\n",
              "        1.68675345e+01, -7.46628812e+01, -1.25684354e+02, -4.02693958e+01,\n",
              "       -1.12394535e+02, -1.29829708e+01,  2.06475021e+01,  2.25286135e+01,\n",
              "       -1.02427013e+02, -5.02060511e+01, -9.26032996e+01,  1.00556762e+02,\n",
              "        1.05952389e+01, -5.70084275e+00,  4.55993836e+01, -1.02140338e+02,\n",
              "       -7.04880701e+01,  1.04586421e+01, -8.10113844e+01, -6.99109180e+01,\n",
              "        5.18141216e+01,  2.80540802e+00,  4.25565043e+01,  9.17958912e+01,\n",
              "        1.81963572e-01,  1.03926639e+02, -1.28377553e+01, -1.55372307e+02,\n",
              "        1.31977683e+02,  8.49102879e+01, -9.00563059e+01,  1.13267348e+02,\n",
              "        5.32584310e+01,  8.28714780e+01,  7.86991104e+01,  1.18334784e+02,\n",
              "       -1.58358016e+01, -5.85838198e+01, -4.41226416e+01,  1.34851808e+02,\n",
              "        1.06483095e+02, -1.15354563e+02, -3.41869796e+01, -5.07861000e+01,\n",
              "        4.33683536e+00, -4.72097947e+01, -2.52618913e+01, -3.94072966e+00,\n",
              "        1.14031400e+02,  5.47852345e+01,  9.46184919e+01, -1.76144259e+02,\n",
              "       -1.26415519e+01,  9.64404288e+01,  1.09444421e+02,  9.73241692e+01,\n",
              "       -4.51486512e+01,  2.63730154e+00,  1.18916305e+02, -6.70985131e+01,\n",
              "        1.32533404e+02, -2.60611229e+01,  1.18086179e+01, -1.03372643e+02,\n",
              "        2.39078218e+02,  4.56238810e+01,  8.90338353e+01,  5.26474417e+01,\n",
              "       -2.90517876e+01,  7.26063484e+01, -1.16051182e+02,  1.12609537e+02,\n",
              "        7.97719142e+01, -4.62205789e+01,  6.97810869e+01,  3.71693551e+01,\n",
              "        3.36447747e+01, -3.86015947e+00,  5.67976662e+01,  1.11737954e+02,\n",
              "       -1.23725938e+02, -1.35524883e+01, -1.89359276e+02, -3.22260288e+01,\n",
              "       -1.90750323e+02,  7.09872496e+01,  3.65477078e+01, -8.38932414e+00,\n",
              "       -5.54810485e+01, -1.26937772e+02,  7.37174585e+01, -6.00355115e+01,\n",
              "        3.90855174e+01,  8.90339984e+01, -5.40316244e+00, -9.79350417e+01,\n",
              "        2.10575327e+01, -7.86170167e+01,  9.91610981e+01, -1.71451595e+02,\n",
              "        4.06279941e+01,  1.12451269e+01,  5.59521755e+01,  1.77725818e+02,\n",
              "        5.85017408e+01,  2.93472063e+01,  1.87459729e+01, -1.77777807e+02,\n",
              "       -5.00436228e+01, -6.06422592e+00,  4.75326249e+01, -1.69776471e+01,\n",
              "       -1.72816393e+02,  1.56633282e+01, -1.72176420e+01, -1.22144378e+02,\n",
              "        1.41805823e+01,  5.31483514e+01,  2.26312260e+02,  2.50066547e+00,\n",
              "       -1.63603077e+02, -1.91427614e+01, -3.45540285e+00,  6.24695527e+01,\n",
              "       -1.57180750e+01, -4.50095462e+01, -1.56609488e+02, -1.37803384e+01,\n",
              "        7.02392536e+01, -6.40995315e-01, -3.72578388e+01,  1.25349744e+02,\n",
              "        1.56373332e+01, -4.49455093e+01, -1.14354501e+01,  8.44815898e+01,\n",
              "        5.56714964e+01,  1.49370869e+02, -5.21112297e+01, -8.34504662e+01,\n",
              "        1.12539637e+02,  2.22646937e+01,  9.14465266e+01, -6.17743382e+01,\n",
              "        8.87549470e+01,  5.10744073e+01,  2.19350018e+00, -7.09002733e+01,\n",
              "       -6.42136159e+00,  6.72099491e-01,  1.39967749e+02,  9.09412562e+01,\n",
              "       -2.48325124e+01,  1.52181490e+02,  8.27746542e+01, -6.95808767e+01,\n",
              "       -1.32510685e+01,  8.17852604e+01,  7.59972522e+00, -1.48994004e+02,\n",
              "       -5.81650656e+01, -1.17573247e+01,  9.66648064e+00,  3.77122943e+01,\n",
              "        8.41586180e+01, -1.54585652e+02,  6.31202428e+01,  3.54289717e+01,\n",
              "       -7.26260451e+01,  1.96900189e+02,  2.52863260e+02, -4.20908351e+01,\n",
              "       -1.52232612e+02,  2.83274325e+01, -7.43222481e+01,  3.07786653e+01,\n",
              "       -1.04209300e+01,  6.01704182e+01,  5.84174480e+01,  6.36466939e+01,\n",
              "       -9.64275895e+01,  5.84194068e+01, -6.04288395e+01, -8.58845093e+00,\n",
              "        4.57549825e+01, -7.76867114e+01,  2.26079098e+01,  9.34009103e+01,\n",
              "        2.43170977e+01,  4.97985792e+01, -9.16999805e+01,  4.95574085e+01,\n",
              "       -1.48477064e+01,  8.96130624e+01, -4.83262084e+01, -7.51028371e+01,\n",
              "       -6.25551417e+01, -7.02911486e+01,  6.22130796e+01,  1.90394393e+02,\n",
              "       -1.17613082e+00, -1.66914828e+02,  5.57121921e+01, -8.18440146e+01,\n",
              "       -4.27489792e+01, -2.37338567e+01,  4.84885298e+01,  5.98746231e+01,\n",
              "        5.00551964e+00,  7.04314315e+01, -7.07053335e+01,  4.87545533e+01,\n",
              "       -1.34857480e+01,  1.14581801e+02, -4.41625665e+01,  8.08033473e+00,\n",
              "        3.27058556e+01, -5.59712792e+01, -1.01830934e+02,  4.69294492e+01,\n",
              "        1.10847434e+02,  6.95344494e+01,  6.86960597e+01,  2.98590560e+01,\n",
              "        2.38065853e+01,  1.58499724e+02, -1.62737746e+02,  4.94829636e+01,\n",
              "        1.51783120e+01,  7.88760253e+01, -9.37734042e+01, -2.39100901e+01,\n",
              "       -5.62945157e+01, -5.98973900e+01, -6.14579124e+01, -6.50798164e+01,\n",
              "        1.21521335e+02, -6.18748157e+00, -1.26135098e+02, -7.75961818e+00,\n",
              "       -9.77236212e+01, -9.34654462e+01, -3.64943371e+01, -1.29365342e+02,\n",
              "        3.30152937e+01, -4.26858914e+01,  6.11413242e+00, -1.63017955e+02,\n",
              "        2.19701112e+01,  6.72223582e+01,  4.74112236e+01,  7.13011670e+00,\n",
              "       -2.31132347e+01,  2.51306258e+01, -1.00305273e+02, -5.53876034e+01,\n",
              "        3.71851259e+01,  1.50230438e+02,  1.00098711e+02,  1.30063530e+01,\n",
              "        7.96579053e+01,  1.74322684e+01,  6.75217914e+01,  4.05014921e+01,\n",
              "       -1.44573250e+02,  7.29242522e+01,  3.54737512e+01,  4.47306407e+01,\n",
              "        1.11925260e+02,  5.13356748e+01, -6.39530775e+01, -1.49065464e+02,\n",
              "        1.77075305e+01, -4.23193889e+01, -1.90875907e+02, -1.78430801e+02,\n",
              "       -2.83574119e+01,  1.34916488e+01, -1.24625315e+02, -1.05511856e+02,\n",
              "        5.91259633e+01,  6.81066483e+01, -2.52390949e+01, -2.70492702e+01,\n",
              "       -8.11408733e+01, -1.39006106e+02,  8.27770324e+00, -2.26086461e+01,\n",
              "        5.67961013e+01, -2.67528283e+01,  1.43675834e+01,  9.60160408e+01,\n",
              "       -9.51140065e+01,  8.39467749e+00, -3.73622300e+01,  2.06250983e+01,\n",
              "        3.55795646e+01, -1.06066179e+02, -1.40461889e+02, -1.60346086e+01,\n",
              "       -9.08843481e+01,  1.10699713e+02,  6.65174359e+01,  2.59969814e+01,\n",
              "       -6.37185224e+01, -4.94705263e+01, -1.86411706e+01,  1.92845057e+01,\n",
              "       -6.56626889e+01,  5.60457457e+01,  6.28679593e+01, -6.12372396e+01,\n",
              "       -8.95472202e+01, -6.77365249e+01,  1.38623205e+02, -6.14253415e+01,\n",
              "       -8.30849877e+00, -2.34643853e+01,  1.30604310e+02, -3.38345286e+01,\n",
              "        2.36220190e+01, -7.42138935e+01,  1.41361175e+00,  4.34462041e+01,\n",
              "        1.25299762e+01,  6.80583053e+01,  5.18729916e+01, -1.94021741e+01,\n",
              "        6.28399122e+00,  1.40067495e+02, -8.32652014e+01, -1.59951048e+02,\n",
              "       -2.36682784e+01,  8.80875957e+01,  1.07153935e+02,  9.41981293e+01,\n",
              "        8.81856179e+00,  6.68410995e+01,  8.86030100e+01, -9.50875233e+01,\n",
              "       -2.46981858e+01, -2.96675029e+01, -2.40500254e+01, -1.85605958e+01,\n",
              "       -1.70780616e+01, -9.71071289e+01,  2.10781936e+02,  4.64737965e+00,\n",
              "        5.09466990e+01,  1.53346590e+02, -6.15265200e+01, -2.21546307e+01,\n",
              "        3.26246419e+01,  6.38048017e+01,  1.12825000e+02,  6.94126053e+01,\n",
              "       -8.01937926e+01, -1.10563158e+01,  4.53179522e+01,  1.22441499e+02,\n",
              "       -8.09523217e+01, -2.89112483e+01, -7.27604693e+01,  6.32430079e+01,\n",
              "        5.88285273e+01, -2.53034918e+00, -5.05211942e+01,  2.85472724e+01,\n",
              "        4.61181894e+01, -9.59616734e+00, -6.48221245e+01,  7.57818928e+01,\n",
              "       -1.91320810e+01,  8.35620814e+01,  1.01026687e+02,  1.30115615e+02,\n",
              "       -2.25217779e+01, -2.31235047e+02, -9.29325270e+01, -4.91705186e+01,\n",
              "       -1.71307256e+01,  8.57319342e+01, -4.95128433e+01, -1.31665320e+02,\n",
              "        3.58220732e+01, -9.21143155e+01, -4.24185800e+01,  2.58544547e+01,\n",
              "       -2.14757120e+01,  8.35770781e+01, -1.63413904e+01, -7.51700584e+01,\n",
              "       -8.95181051e+01,  1.06151667e+02, -5.18278205e+01,  9.06491398e+01,\n",
              "        3.24179104e+01,  3.83890758e+01,  1.45784872e+02, -1.09730161e+02,\n",
              "       -1.75885741e+01, -1.50640344e+02,  8.79733830e+00, -1.11532673e+02,\n",
              "        3.49988421e+01, -1.42097681e+02,  7.91245884e+01, -1.92169875e+01,\n",
              "       -1.38217403e+02,  4.86748517e+01,  1.21829613e+01,  2.96675058e+01,\n",
              "       -9.50727220e+01,  6.28621069e+01, -2.37612285e+00, -1.54071641e+02,\n",
              "       -9.37932064e+01, -5.94294057e+01, -1.26040457e+02, -1.15273570e+02,\n",
              "       -2.61061111e+01,  8.47224042e-01, -2.52565016e+01,  9.01716323e+01,\n",
              "       -9.25126635e+00, -5.89863393e+01,  1.00557702e+02, -2.16711261e+01,\n",
              "       -4.61796675e+01, -2.61229575e+01, -6.93106188e+01,  6.87665144e+01,\n",
              "       -1.47662994e+02, -1.05390395e+02, -7.71610035e+01,  7.65574732e+00,\n",
              "       -7.52001377e+01,  2.35767472e+01, -1.32312794e+02,  1.16575939e+01,\n",
              "       -5.69276519e+00,  1.02875966e+02,  3.71602160e+01,  7.10359781e+01,\n",
              "        8.84124614e+01,  8.19876068e+01,  1.79076936e+01,  1.24293315e+02,\n",
              "       -1.02313439e+02,  2.87427236e+01, -1.63200407e+01, -5.22572785e+01,\n",
              "       -6.43532655e+01,  4.68962965e+01, -9.00026742e+01,  7.99923502e+00,\n",
              "        1.14728005e+02,  6.80056637e+01, -5.56284595e+00, -9.27135582e+01,\n",
              "        1.28547007e+01,  1.15637399e+02,  7.08699745e+01, -9.53878062e+00,\n",
              "       -1.56322701e+01, -1.23000070e+02, -3.37158719e+01, -9.03229089e+01,\n",
              "        6.10068144e+01,  5.64667290e+01,  3.08578390e+01,  3.00061762e+01,\n",
              "       -3.70723802e+01, -5.61078308e+01, -5.15725039e+00, -9.47992089e+01,\n",
              "        1.44834519e+02, -8.41503891e+01,  2.77495990e+01, -5.99080208e+01,\n",
              "        1.97676446e+01, -5.52136767e+01,  1.07281824e+02,  3.45219431e+00,\n",
              "        4.16078698e+01,  3.49119034e+01,  2.04171861e+02,  7.74731999e+01,\n",
              "       -9.66948162e+01,  7.02643594e+01,  1.00810738e+01,  2.33362804e+00,\n",
              "       -1.02471841e+02,  7.61902186e+01,  1.14486617e+02,  3.09766160e+01,\n",
              "       -1.40154965e+02, -3.01137799e+00,  6.93671234e+01,  9.25337050e+01,\n",
              "       -2.27260152e+01, -9.24240741e+01,  1.06438634e+01, -6.49647517e+01,\n",
              "       -1.08381280e+02, -1.94882268e+02, -5.33974966e+01,  5.05617273e+01,\n",
              "       -1.12629863e+01, -3.89887878e+01, -1.74822836e+01,  5.81867740e+01,\n",
              "        3.00281086e+01,  7.42004922e+01, -1.94515390e+01,  1.11404721e+01,\n",
              "       -5.52317413e+00, -5.50687967e+01,  5.72512061e+01, -5.69603857e+01,\n",
              "       -1.05808475e+02,  2.19011679e+01, -1.53671168e+02,  6.05770940e+00,\n",
              "        2.17812294e+02, -1.31126583e+02, -4.46705335e+00, -2.95210829e+01,\n",
              "        3.13847007e+01,  2.07804827e+01,  1.25182550e+02,  1.51639064e+02,\n",
              "        1.31555187e+01,  8.22074919e+01, -5.95892450e+01,  3.67636242e+01,\n",
              "       -4.08373467e+01, -5.00296229e+00, -5.44708505e+01,  8.28836889e+01,\n",
              "       -2.23334265e+00,  1.68807697e+02,  1.78049213e+01,  1.31223887e+02,\n",
              "        5.06818981e+01, -7.89857659e+01,  4.73545446e+01,  9.77404089e+01,\n",
              "        1.15806132e+02, -3.85534841e+00,  1.84218994e+02,  4.92023393e+01,\n",
              "        5.96626301e+01, -7.04341193e+01, -3.58169992e+01, -1.85734031e+01,\n",
              "        1.41465386e+02,  1.38449623e+00, -5.87399377e+01,  3.11391551e+01,\n",
              "        1.05357501e+02, -1.40876008e+02, -2.24421291e+01, -2.07318352e+01,\n",
              "        6.21191783e+01, -1.37639974e+02,  2.35883392e+01, -2.76267661e+01,\n",
              "        3.31924707e+01,  7.25250951e+00, -2.34299189e+00,  1.15659936e+02,\n",
              "       -1.61976253e+01,  5.86903835e+01,  3.16060819e+01,  6.09157155e+01])"
            ]
          },
          "metadata": {},
          "execution_count": 5
        }
      ]
    },
    {
      "cell_type": "code",
      "source": [
        "pd.DataFrame(X)[0]"
      ],
      "metadata": {
        "colab": {
          "base_uri": "https://localhost:8080/"
        },
        "id": "KY2IhVOA4pkA",
        "outputId": "8fa27176-e31b-4433-a7b0-c54013596c54"
      },
      "execution_count": 6,
      "outputs": [
        {
          "output_type": "execute_result",
          "data": {
            "text/plain": [
              "0      0.546651\n",
              "1     -0.886830\n",
              "2      0.253121\n",
              "3      1.417688\n",
              "4      0.268184\n",
              "         ...   \n",
              "995    0.617049\n",
              "996    0.747042\n",
              "997    1.847524\n",
              "998    1.099658\n",
              "999    0.878384\n",
              "Name: 0, Length: 1000, dtype: float64"
            ]
          },
          "metadata": {},
          "execution_count": 6
        }
      ]
    },
    {
      "cell_type": "code",
      "source": [
        "sns.scatterplot(x=pd.DataFrame(X)[0],y=pd.DataFrame(X)[1],hue=y)"
      ],
      "metadata": {
        "colab": {
          "base_uri": "https://localhost:8080/",
          "height": 466
        },
        "id": "4zf-dYGb4rSv",
        "outputId": "13f23527-3a40-4be4-dd51-ff66ec64ba4f"
      },
      "execution_count": 8,
      "outputs": [
        {
          "output_type": "execute_result",
          "data": {
            "text/plain": [
              "<Axes: xlabel='0', ylabel='1'>"
            ]
          },
          "metadata": {},
          "execution_count": 8
        },
        {
          "output_type": "display_data",
          "data": {
            "text/plain": [
              "<Figure size 640x480 with 1 Axes>"
            ],
            "image/png": "[encoded data removed]"
          },
          "metadata": {}
        }
      ]
    },
    {
      "cell_type": "code",
      "source": [
        "from sklearn.model_selection import train_test_split"
      ],
      "metadata": {
        "id": "e9Xit1xC4rVO"
      },
      "execution_count": 9,
      "outputs": []
    },
    {
      "cell_type": "code",
      "source": [
        "X_train,X_test,y_train,y_test=train_test_split(X,y,test_size=0.25,random_state=10)"
      ],
      "metadata": {
        "id": "ac5sTIM94rXu"
      },
      "execution_count": 15,
      "outputs": []
    },
    {
      "cell_type": "code",
      "source": [
        "from sklearn.svm import SVR"
      ],
      "metadata": {
        "id": "zdY1wbkB4raW"
      },
      "execution_count": 16,
      "outputs": []
    },
    {
      "cell_type": "code",
      "source": [
        "svr=SVR(kernel='linear')"
      ],
      "metadata": {
        "id": "yugR0u4L4rdS"
      },
      "execution_count": 17,
      "outputs": []
    },
    {
      "cell_type": "code",
      "source": [
        "svr.fit(X_train,y_train)"
      ],
      "metadata": {
        "colab": {
          "base_uri": "https://localhost:8080/",
          "height": 74
        },
        "id": "TcJ9HzcO4rfO",
        "outputId": "dd6d6254-d20b-432e-f282-222f5f3434a8"
      },
      "execution_count": 18,
      "outputs": [
        {
          "output_type": "execute_result",
          "data": {
            "text/plain": [
              "SVR(kernel='linear')"
            ],
            "text/html": [
              "<style>#sk-container-id-1 {color: black;background-color: white;}#sk-container-id-1 pre{padding: 0;}#sk-container-id-1 div.sk-toggleable {background-color: white;}#sk-container-id-1 label.sk-toggleable__label {cursor: pointer;display: block;width: 100%;margin-bottom: 0;padding: 0.3em;box-sizing: border-box;text-align: center;}#sk-container-id-1 label.sk-toggleable__label-arrow:before {content: \"▸\";float: left;margin-right: 0.25em;color: #696969;}#sk-container-id-1 label.sk-toggleable__label-arrow:hover:before {color: black;}#sk-container-id-1 div.sk-estimator:hover label.sk-toggleable__label-arrow:before {color: black;}#sk-container-id-1 div.sk-toggleable__content {max-height: 0;max-width: 0;overflow: hidden;text-align: left;background-color: #f0f8ff;}#sk-container-id-1 div.sk-toggleable__content pre {margin: 0.2em;color: black;border-radius: 0.25em;background-color: #f0f8ff;}#sk-container-id-1 input.sk-toggleable__control:checked~div.sk-toggleable__content {max-height: 200px;max-width: 100%;overflow: auto;}#sk-container-id-1 input.sk-toggleable__control:checked~label.sk-toggleable__label-arrow:before {content: \"▾\";}#sk-container-id-1 div.sk-estimator input.sk-toggleable__control:checked~label.sk-toggleable__label {background-color: #d4ebff;}#sk-container-id-1 div.sk-label input.sk-toggleable__control:checked~label.sk-toggleable__label {background-color: #d4ebff;}#sk-container-id-1 input.sk-hidden--visually {border: 0;clip: rect(1px 1px 1px 1px);clip: rect(1px, 1px, 1px, 1px);height: 1px;margin: -1px;overflow: hidden;padding: 0;position: absolute;width: 1px;}#sk-container-id-1 div.sk-estimator {font-family: monospace;background-color: #f0f8ff;border: 1px dotted black;border-radius: 0.25em;box-sizing: border-box;margin-bottom: 0.5em;}#sk-container-id-1 div.sk-estimator:hover {background-color: #d4ebff;}#sk-container-id-1 div.sk-parallel-item::after {content: \"\";width: 100%;border-bottom: 1px solid gray;flex-grow: 1;}#sk-container-id-1 div.sk-label:hover label.sk-toggleable__label {background-color: #d4ebff;}#sk-container-id-1 div.sk-serial::before {content: \"\";position: absolute;border-left: 1px solid gray;box-sizing: border-box;top: 0;bottom: 0;left: 50%;z-index: 0;}#sk-container-id-1 div.sk-serial {display: flex;flex-direction: column;align-items: center;background-color: white;padding-right: 0.2em;padding-left: 0.2em;position: relative;}#sk-container-id-1 div.sk-item {position: relative;z-index: 1;}#sk-container-id-1 div.sk-parallel {display: flex;align-items: stretch;justify-content: center;background-color: white;position: relative;}#sk-container-id-1 div.sk-item::before, #sk-container-id-1 div.sk-parallel-item::before {content: \"\";position: absolute;border-left: 1px solid gray;box-sizing: border-box;top: 0;bottom: 0;left: 50%;z-index: -1;}#sk-container-id-1 div.sk-parallel-item {display: flex;flex-direction: column;z-index: 1;position: relative;background-color: white;}#sk-container-id-1 div.sk-parallel-item:first-child::after {align-self: flex-end;width: 50%;}#sk-container-id-1 div.sk-parallel-item:last-child::after {align-self: flex-start;width: 50%;}#sk-container-id-1 div.sk-parallel-item:only-child::after {width: 0;}#sk-container-id-1 div.sk-dashed-wrapped {border: 1px dashed gray;margin: 0 0.4em 0.5em 0.4em;box-sizing: border-box;padding-bottom: 0.4em;background-color: white;}#sk-container-id-1 div.sk-label label {font-family: monospace;font-weight: bold;display: inline-block;line-height: 1.2em;}#sk-container-id-1 div.sk-label-container {text-align: center;}#sk-container-id-1 div.sk-container {/* jupyter's `normalize.less` sets `[hidden] { display: none; }` but bootstrap.min.css set `[hidden] { display: none !important; }` so we also need the `!important` here to be able to override the default hidden behavior on the sphinx rendered scikit-learn.org. See: https://github.com/scikit-learn/scikit-learn/issues/21755 */display: inline-block !important;position: relative;}#sk-container-id-1 div.sk-text-repr-fallback {display: none;}</style><div id=\"sk-container-id-1\" class=\"sk-top-container\"><div class=\"sk-text-repr-fallback\"><pre>SVR(kernel=&#x27;linear&#x27;)</pre><b>In a Jupyter environment, please rerun this cell to show the HTML representation or trust the notebook. <br />On GitHub, the HTML representation is unable to render, please try loading this page with nbviewer.org.</b></div><div class=\"sk-container\" hidden><div class=\"sk-item\"><div class=\"sk-estimator sk-toggleable\"><input class=\"sk-toggleable__control sk-hidden--visually\" id=\"sk-estimator-id-1\" type=\"checkbox\" checked><label for=\"sk-estimator-id-1\" class=\"sk-toggleable__label sk-toggleable__label-arrow\">SVR</label><div class=\"sk-toggleable__content\"><pre>SVR(kernel=&#x27;linear&#x27;)</pre></div></div></div></div></div>"
            ]
          },
          "metadata": {},
          "execution_count": 18
        }
      ]
    },
    {
      "cell_type": "code",
      "source": [
        "svr.coef_"
      ],
      "metadata": {
        "colab": {
          "base_uri": "https://localhost:8080/"
        },
        "id": "9AIRfSBg71AR",
        "outputId": "917358c9-8e78-4728-f9ed-cd27bac23cd8"
      },
      "execution_count": 20,
      "outputs": [
        {
          "output_type": "execute_result",
          "data": {
            "text/plain": [
              "array([[40.00848798, 74.38687766]])"
            ]
          },
          "metadata": {},
          "execution_count": 20
        }
      ]
    },
    {
      "cell_type": "code",
      "source": [
        "y_pred=svr.predict(X_test)"
      ],
      "metadata": {
        "id": "diNiM8Sj8BTp"
      },
      "execution_count": 21,
      "outputs": []
    },
    {
      "cell_type": "code",
      "source": [
        "y_pred"
      ],
      "metadata": {
        "colab": {
          "base_uri": "https://localhost:8080/"
        },
        "id": "yp0L1irX8HHw",
        "outputId": "73d4cb91-82ac-4d93-cb6b-41b3fa37a2b1"
      },
      "execution_count": 22,
      "outputs": [
        {
          "output_type": "execute_result",
          "data": {
            "text/plain": [
              "array([ -62.90177563,    9.6631441 , -162.65993233,   51.25573913,\n",
              "         99.84858475,  153.30494654,   87.22542336,  -38.22737777,\n",
              "         42.54341373,  -33.3316879 ,  -63.41666581,   89.2521589 ,\n",
              "        -17.80790475, -102.05607051,   18.19309631,  -62.57355387,\n",
              "         -4.1387935 ,  -14.1912434 ,   49.48057764,  222.98067484,\n",
              "        -54.7513285 ,  -35.56305519,  -41.26904131, -106.49401439,\n",
              "         99.71567199,   33.61733036,   44.20084979,   70.93569099,\n",
              "         89.57715945,   22.51248538,   50.6357301 ,  -77.60078284,\n",
              "        -37.02626135,   19.56901913,   84.37041475,  169.72805234,\n",
              "          5.25499607,  -35.79603357,   -4.6849337 ,   -7.98429196,\n",
              "        -53.67494243,  -88.23965339,  -16.34572698,  -56.19493158,\n",
              "          2.32424523,  -29.76641401,   58.818178  ,  -92.64581845,\n",
              "       -118.65507771,   25.10097116,   -4.23256854,   35.35602102,\n",
              "       -187.5139236 ,  -84.96114361,  121.64123992,   50.33299318,\n",
              "       -172.19136787,   -5.66532796,  -99.4912064 ,   49.16259   ,\n",
              "        157.00952395,  -54.3614088 ,   60.61612176,   54.87618796,\n",
              "         -9.64961236,   35.09475897,   11.01816069, -104.57760305,\n",
              "         86.5793742 ,  -44.54359097,  -29.77067658, -204.12945685,\n",
              "        120.20434003,   21.99482594,  -48.9981153 ,  -39.83514061,\n",
              "        -46.83113899,   37.07874092,    1.74505099,  -47.98631172,\n",
              "        -91.67996746,  -10.49761829, -175.11143918,   15.4557777 ,\n",
              "         53.48567117,   51.75700056,   46.79619973,  -67.47502777,\n",
              "        -29.51321883,   42.30433208,   26.28180167,   -2.53258865,\n",
              "         57.79638731,  -71.52169608, -168.42844667,  172.10132597,\n",
              "         45.3151527 ,   20.87802966, -139.59953067,   53.80806644,\n",
              "        -59.69342942,  -61.14915525, -136.68046747,   -4.93620208,\n",
              "         64.81085796,  -92.70377569,  -23.33855651,   56.68983479,\n",
              "        -74.01381652,  -98.01038006,  -59.29778717, -123.45744263,\n",
              "        -54.99536187, -102.34325496,  -20.09459135,   23.40780712,\n",
              "         13.60193484,   71.34631785,    2.28622225,  -10.99375842,\n",
              "        -92.39632128,   76.99507884,   54.01967305,   18.39692383,\n",
              "         64.98173562, -107.58928373,   37.14536056,   59.20686962,\n",
              "        -26.99034038,  -52.77227234,  -36.47560961,   20.76652225,\n",
              "         52.18749961,  -17.58420798,  103.1169504 ,  -27.66605249,\n",
              "         34.24505518, -100.42821599,   82.94930078,  170.58071342,\n",
              "         56.69502153,   69.17192368, -129.62384795,  183.00502888,\n",
              "       -152.22895014,   13.4412556 ,   26.21416171,   29.58123718,\n",
              "       -116.09584178,  139.65135978,  -20.22665471, -111.1666863 ,\n",
              "        -11.48596094,  -15.05327023, -140.06109003,  -82.0454793 ,\n",
              "        -21.93209822,   85.58096438,  -67.64619512,  107.9301737 ,\n",
              "        -58.80727546,  -69.76521359,  -48.74280547,  -59.68111755,\n",
              "        -97.11431507,   53.0911643 , -120.23603886,   28.11021153,\n",
              "        -53.39784969,  -56.09683677,  -63.49532103,   62.19490163,\n",
              "        -58.96215823,  -25.2328816 ,  115.33153345,  130.38185409,\n",
              "        -58.7563562 ,   60.27747506,  -30.33924693,    0.70548206,\n",
              "         51.41533386,  -58.76873255,   63.89173469,  -41.62992919,\n",
              "         73.19761103,  -82.94687215,  -20.78896282,   42.65754514,\n",
              "        -76.01935536,  -33.18322918,  -39.15282344,  -56.93725513,\n",
              "        -96.74904392,  -27.84268524,  130.93668118,   15.42747141,\n",
              "         63.28349424,    6.55174315,  -15.60719237,   23.31950748,\n",
              "        -45.52258334,  -63.44049653,  -77.64977777,  -11.138612  ,\n",
              "       -114.62237393,  -10.78177712,   88.24535691, -186.43047386,\n",
              "         18.49511157,  169.20254854,  -24.89547443,   -9.71777028,\n",
              "         -1.16398429,  -61.07324132,  -85.82237153,   79.22982327,\n",
              "        -58.66463884,  -49.25651604,   17.2422599 ,  195.41912321,\n",
              "         63.05641595,  -47.09680208,   82.45429927,  -86.25245983,\n",
              "        151.59708431,   63.07337066,  104.95406067,  127.33940248,\n",
              "        111.19421991,   -1.02424201,   80.23394919,   92.03915029,\n",
              "        -21.17961269,   18.44443171,  123.00188863,   72.35602771,\n",
              "        127.74183366,  110.80189677,  -62.65816786,  123.279778  ,\n",
              "        -72.05314217,  -96.84269317,  171.97857944,  -58.7259586 ,\n",
              "        -20.29672025,  -28.19707065,   14.58564522,   25.53720103,\n",
              "         13.19224711,  153.85586199])"
            ]
          },
          "metadata": {},
          "execution_count": 22
        }
      ]
    },
    {
      "cell_type": "code",
      "source": [
        "from sklearn.metrics import r2_score"
      ],
      "metadata": {
        "id": "RN0174S08H02"
      },
      "execution_count": 23,
      "outputs": []
    },
    {
      "cell_type": "code",
      "source": [
        "print(r2_score(y_test,y_pred))"
      ],
      "metadata": {
        "colab": {
          "base_uri": "https://localhost:8080/"
        },
        "id": "490LrPWA8NRA",
        "outputId": "151a38fa-da2f-4a36-8f1c-b677814a7e99"
      },
      "execution_count": 24,
      "outputs": [
        {
          "output_type": "stream",
          "name": "stdout",
          "text": [
            "0.9984665799163635\n"
          ]
        }
      ]
    },
    {
      "cell_type": "code",
      "source": [
        "param_grid={\n",
        "            'C':[0.1,1,10,100,1000],\n",
        "            'gamma':[1,0.1,0.01,0.001,0.0001],\n",
        "            'kernel':['linear'],\n",
        "            'epsilon':[0.1,0.2,0.3]\n",
        "}"
      ],
      "metadata": {
        "id": "j1LiUPuI8ao6"
      },
      "execution_count": 26,
      "outputs": []
    },
    {
      "cell_type": "code",
      "source": [
        "from sklearn.model_selection import GridSearchCV"
      ],
      "metadata": {
        "id": "Ukm5iqws83Q7"
      },
      "execution_count": 27,
      "outputs": []
    },
    {
      "cell_type": "code",
      "source": [
        "grid=GridSearchCV(SVR(),param_grid=param_grid,refit=True,cv=5,verbose=3)"
      ],
      "metadata": {
        "id": "4tV6zCVL9MsZ"
      },
      "execution_count": 28,
      "outputs": []
    },
    {
      "cell_type": "code",
      "source": [
        "grid.fit(X_train,y_train)"
      ],
      "metadata": {
        "colab": {
          "base_uri": "https://localhost:8080/",
          "height": 1000
        },
        "id": "AVQoeJ799Zfx",
        "outputId": "28722344-65e8-4022-aeb5-8e231d89d9be"
      },
      "execution_count": 29,
      "outputs": [
        {
          "output_type": "stream",
          "name": "stdout",
          "text": [
            "Fitting 5 folds for each of 75 candidates, totalling 375 fits\n",
            "[CV 1/5] END C=0.1, epsilon=0.1, gamma=1, kernel=linear;, score=0.795 total time=   0.0s\n",
            "[CV 2/5] END C=0.1, epsilon=0.1, gamma=1, kernel=linear;, score=0.790 total time=   0.0s\n",
            "[CV 3/5] END C=0.1, epsilon=0.1, gamma=1, kernel=linear;, score=0.781 total time=   0.0s\n",
            "[CV 4/5] END C=0.1, epsilon=0.1, gamma=1, kernel=linear;, score=0.801 total time=   0.0s\n",
            "[CV 5/5] END C=0.1, epsilon=0.1, gamma=1, kernel=linear;, score=0.793 total time=   0.0s\n",
            "[CV 1/5] END C=0.1, epsilon=0.1, gamma=0.1, kernel=linear;, score=0.795 total time=   0.0s\n",
            "[CV 2/5] END C=0.1, epsilon=0.1, gamma=0.1, kernel=linear;, score=0.790 total time=   0.0s\n",
            "[CV 3/5] END C=0.1, epsilon=0.1, gamma=0.1, kernel=linear;, score=0.781 total time=   0.0s\n",
            "[CV 4/5] END C=0.1, epsilon=0.1, gamma=0.1, kernel=linear;, score=0.801 total time=   0.0s\n",
            "[CV 5/5] END C=0.1, epsilon=0.1, gamma=0.1, kernel=linear;, score=0.793 total time=   0.0s\n",
            "[CV 1/5] END C=0.1, epsilon=0.1, gamma=0.01, kernel=linear;, score=0.795 total time=   0.0s\n",
            "[CV 2/5] END C=0.1, epsilon=0.1, gamma=0.01, kernel=linear;, score=0.790 total time=   0.0s\n",
            "[CV 3/5] END C=0.1, epsilon=0.1, gamma=0.01, kernel=linear;, score=0.781 total time=   0.0s\n",
            "[CV 4/5] END C=0.1, epsilon=0.1, gamma=0.01, kernel=linear;, score=0.801 total time=   0.0s\n",
            "[CV 5/5] END C=0.1, epsilon=0.1, gamma=0.01, kernel=linear;, score=0.793 total time=   0.0s\n",
            "[CV 1/5] END C=0.1, epsilon=0.1, gamma=0.001, kernel=linear;, score=0.795 total time=   0.0s\n",
            "[CV 2/5] END C=0.1, epsilon=0.1, gamma=0.001, kernel=linear;, score=0.790 total time=   0.0s\n",
            "[CV 3/5] END C=0.1, epsilon=0.1, gamma=0.001, kernel=linear;, score=0.781 total time=   0.0s\n",
            "[CV 4/5] END C=0.1, epsilon=0.1, gamma=0.001, kernel=linear;, score=0.801 total time=   0.0s\n",
            "[CV 5/5] END C=0.1, epsilon=0.1, gamma=0.001, kernel=linear;, score=0.793 total time=   0.0s\n",
            "[CV 1/5] END C=0.1, epsilon=0.1, gamma=0.0001, kernel=linear;, score=0.795 total time=   0.0s\n",
            "[CV 2/5] END C=0.1, epsilon=0.1, gamma=0.0001, kernel=linear;, score=0.790 total time=   0.0s\n",
            "[CV 3/5] END C=0.1, epsilon=0.1, gamma=0.0001, kernel=linear;, score=0.781 total time=   0.0s\n",
            "[CV 4/5] END C=0.1, epsilon=0.1, gamma=0.0001, kernel=linear;, score=0.801 total time=   0.0s\n",
            "[CV 5/5] END C=0.1, epsilon=0.1, gamma=0.0001, kernel=linear;, score=0.793 total time=   0.0s\n",
            "[CV 1/5] END C=0.1, epsilon=0.2, gamma=1, kernel=linear;, score=0.795 total time=   0.0s\n",
            "[CV 2/5] END C=0.1, epsilon=0.2, gamma=1, kernel=linear;, score=0.790 total time=   0.0s\n",
            "[CV 3/5] END C=0.1, epsilon=0.2, gamma=1, kernel=linear;, score=0.781 total time=   0.0s\n",
            "[CV 4/5] END C=0.1, epsilon=0.2, gamma=1, kernel=linear;, score=0.801 total time=   0.0s\n",
            "[CV 5/5] END C=0.1, epsilon=0.2, gamma=1, kernel=linear;, score=0.793 total time=   0.0s\n",
            "[CV 1/5] END C=0.1, epsilon=0.2, gamma=0.1, kernel=linear;, score=0.795 total time=   0.0s\n",
            "[CV 2/5] END C=0.1, epsilon=0.2, gamma=0.1, kernel=linear;, score=0.790 total time=   0.0s\n",
            "[CV 3/5] END C=0.1, epsilon=0.2, gamma=0.1, kernel=linear;, score=0.781 total time=   0.0s\n",
            "[CV 4/5] END C=0.1, epsilon=0.2, gamma=0.1, kernel=linear;, score=0.801 total time=   0.0s\n",
            "[CV 5/5] END C=0.1, epsilon=0.2, gamma=0.1, kernel=linear;, score=0.793 total time=   0.0s\n",
            "[CV 1/5] END C=0.1, epsilon=0.2, gamma=0.01, kernel=linear;, score=0.795 total time=   0.0s\n",
            "[CV 2/5] END C=0.1, epsilon=0.2, gamma=0.01, kernel=linear;, score=0.790 total time=   0.0s\n",
            "[CV 3/5] END C=0.1, epsilon=0.2, gamma=0.01, kernel=linear;, score=0.781 total time=   0.0s\n",
            "[CV 4/5] END C=0.1, epsilon=0.2, gamma=0.01, kernel=linear;, score=0.801 total time=   0.0s\n",
            "[CV 5/5] END C=0.1, epsilon=0.2, gamma=0.01, kernel=linear;, score=0.793 total time=   0.0s\n",
            "[CV 1/5] END C=0.1, epsilon=0.2, gamma=0.001, kernel=linear;, score=0.795 total time=   0.0s\n",
            "[CV 2/5] END C=0.1, epsilon=0.2, gamma=0.001, kernel=linear;, score=0.790 total time=   0.0s\n",
            "[CV 3/5] END C=0.1, epsilon=0.2, gamma=0.001, kernel=linear;, score=0.781 total time=   0.0s\n",
            "[CV 4/5] END C=0.1, epsilon=0.2, gamma=0.001, kernel=linear;, score=0.801 total time=   0.0s\n",
            "[CV 5/5] END C=0.1, epsilon=0.2, gamma=0.001, kernel=linear;, score=0.793 total time=   0.0s\n",
            "[CV 1/5] END C=0.1, epsilon=0.2, gamma=0.0001, kernel=linear;, score=0.795 total time=   0.0s\n",
            "[CV 2/5] END C=0.1, epsilon=0.2, gamma=0.0001, kernel=linear;, score=0.790 total time=   0.0s\n",
            "[CV 3/5] END C=0.1, epsilon=0.2, gamma=0.0001, kernel=linear;, score=0.781 total time=   0.0s\n",
            "[CV 4/5] END C=0.1, epsilon=0.2, gamma=0.0001, kernel=linear;, score=0.801 total time=   0.0s\n",
            "[CV 5/5] END C=0.1, epsilon=0.2, gamma=0.0001, kernel=linear;, score=0.793 total time=   0.0s\n",
            "[CV 1/5] END C=0.1, epsilon=0.3, gamma=1, kernel=linear;, score=0.795 total time=   0.0s\n",
            "[CV 2/5] END C=0.1, epsilon=0.3, gamma=1, kernel=linear;, score=0.790 total time=   0.0s\n",
            "[CV 3/5] END C=0.1, epsilon=0.3, gamma=1, kernel=linear;, score=0.781 total time=   0.0s\n",
            "[CV 4/5] END C=0.1, epsilon=0.3, gamma=1, kernel=linear;, score=0.801 total time=   0.0s\n",
            "[CV 5/5] END C=0.1, epsilon=0.3, gamma=1, kernel=linear;, score=0.793 total time=   0.0s\n",
            "[CV 1/5] END C=0.1, epsilon=0.3, gamma=0.1, kernel=linear;, score=0.795 total time=   0.0s\n",
            "[CV 2/5] END C=0.1, epsilon=0.3, gamma=0.1, kernel=linear;, score=0.790 total time=   0.0s\n",
            "[CV 3/5] END C=0.1, epsilon=0.3, gamma=0.1, kernel=linear;, score=0.781 total time=   0.0s\n",
            "[CV 4/5] END C=0.1, epsilon=0.3, gamma=0.1, kernel=linear;, score=0.801 total time=   0.0s\n",
            "[CV 5/5] END C=0.1, epsilon=0.3, gamma=0.1, kernel=linear;, score=0.793 total time=   0.0s\n",
            "[CV 1/5] END C=0.1, epsilon=0.3, gamma=0.01, kernel=linear;, score=0.795 total time=   0.0s\n",
            "[CV 2/5] END C=0.1, epsilon=0.3, gamma=0.01, kernel=linear;, score=0.790 total time=   0.0s\n",
            "[CV 3/5] END C=0.1, epsilon=0.3, gamma=0.01, kernel=linear;, score=0.781 total time=   0.0s\n",
            "[CV 4/5] END C=0.1, epsilon=0.3, gamma=0.01, kernel=linear;, score=0.801 total time=   0.0s\n",
            "[CV 5/5] END C=0.1, epsilon=0.3, gamma=0.01, kernel=linear;, score=0.793 total time=   0.0s\n",
            "[CV 1/5] END C=0.1, epsilon=0.3, gamma=0.001, kernel=linear;, score=0.795 total time=   0.0s\n",
            "[CV 2/5] END C=0.1, epsilon=0.3, gamma=0.001, kernel=linear;, score=0.790 total time=   0.0s\n",
            "[CV 3/5] END C=0.1, epsilon=0.3, gamma=0.001, kernel=linear;, score=0.781 total time=   0.0s\n",
            "[CV 4/5] END C=0.1, epsilon=0.3, gamma=0.001, kernel=linear;, score=0.801 total time=   0.0s\n",
            "[CV 5/5] END C=0.1, epsilon=0.3, gamma=0.001, kernel=linear;, score=0.793 total time=   0.0s\n",
            "[CV 1/5] END C=0.1, epsilon=0.3, gamma=0.0001, kernel=linear;, score=0.795 total time=   0.0s\n",
            "[CV 2/5] END C=0.1, epsilon=0.3, gamma=0.0001, kernel=linear;, score=0.790 total time=   0.0s\n",
            "[CV 3/5] END C=0.1, epsilon=0.3, gamma=0.0001, kernel=linear;, score=0.781 total time=   0.0s\n",
            "[CV 4/5] END C=0.1, epsilon=0.3, gamma=0.0001, kernel=linear;, score=0.801 total time=   0.0s\n",
            "[CV 5/5] END C=0.1, epsilon=0.3, gamma=0.0001, kernel=linear;, score=0.793 total time=   0.0s\n",
            "[CV 1/5] END C=1, epsilon=0.1, gamma=1, kernel=linear;, score=0.999 total time=   0.0s\n",
            "[CV 2/5] END C=1, epsilon=0.1, gamma=1, kernel=linear;, score=0.999 total time=   0.0s\n",
            "[CV 3/5] END C=1, epsilon=0.1, gamma=1, kernel=linear;, score=0.998 total time=   0.0s\n",
            "[CV 4/5] END C=1, epsilon=0.1, gamma=1, kernel=linear;, score=0.998 total time=   0.0s\n",
            "[CV 5/5] END C=1, epsilon=0.1, gamma=1, kernel=linear;, score=0.998 total time=   0.0s\n",
            "[CV 1/5] END C=1, epsilon=0.1, gamma=0.1, kernel=linear;, score=0.999 total time=   0.0s\n",
            "[CV 2/5] END C=1, epsilon=0.1, gamma=0.1, kernel=linear;, score=0.999 total time=   0.1s\n",
            "[CV 3/5] END C=1, epsilon=0.1, gamma=0.1, kernel=linear;, score=0.998 total time=   0.0s\n",
            "[CV 4/5] END C=1, epsilon=0.1, gamma=0.1, kernel=linear;, score=0.998 total time=   0.0s\n",
            "[CV 5/5] END C=1, epsilon=0.1, gamma=0.1, kernel=linear;, score=0.998 total time=   0.0s\n",
            "[CV 1/5] END C=1, epsilon=0.1, gamma=0.01, kernel=linear;, score=0.999 total time=   0.0s\n",
            "[CV 2/5] END C=1, epsilon=0.1, gamma=0.01, kernel=linear;, score=0.999 total time=   0.0s\n",
            "[CV 3/5] END C=1, epsilon=0.1, gamma=0.01, kernel=linear;, score=0.998 total time=   0.0s\n",
            "[CV 4/5] END C=1, epsilon=0.1, gamma=0.01, kernel=linear;, score=0.998 total time=   0.0s\n",
            "[CV 5/5] END C=1, epsilon=0.1, gamma=0.01, kernel=linear;, score=0.998 total time=   0.0s\n",
            "[CV 1/5] END C=1, epsilon=0.1, gamma=0.001, kernel=linear;, score=0.999 total time=   0.0s\n",
            "[CV 2/5] END C=1, epsilon=0.1, gamma=0.001, kernel=linear;, score=0.999 total time=   0.0s\n",
            "[CV 3/5] END C=1, epsilon=0.1, gamma=0.001, kernel=linear;, score=0.998 total time=   0.0s\n",
            "[CV 4/5] END C=1, epsilon=0.1, gamma=0.001, kernel=linear;, score=0.998 total time=   0.0s\n",
            "[CV 5/5] END C=1, epsilon=0.1, gamma=0.001, kernel=linear;, score=0.998 total time=   0.0s\n",
            "[CV 1/5] END C=1, epsilon=0.1, gamma=0.0001, kernel=linear;, score=0.999 total time=   0.0s\n",
            "[CV 2/5] END C=1, epsilon=0.1, gamma=0.0001, kernel=linear;, score=0.999 total time=   0.0s\n",
            "[CV 3/5] END C=1, epsilon=0.1, gamma=0.0001, kernel=linear;, score=0.998 total time=   0.0s\n",
            "[CV 4/5] END C=1, epsilon=0.1, gamma=0.0001, kernel=linear;, score=0.998 total time=   0.0s\n",
            "[CV 5/5] END C=1, epsilon=0.1, gamma=0.0001, kernel=linear;, score=0.998 total time=   0.0s\n",
            "[CV 1/5] END C=1, epsilon=0.2, gamma=1, kernel=linear;, score=0.999 total time=   0.1s\n",
            "[CV 2/5] END C=1, epsilon=0.2, gamma=1, kernel=linear;, score=0.999 total time=   0.0s\n",
            "[CV 3/5] END C=1, epsilon=0.2, gamma=1, kernel=linear;, score=0.998 total time=   0.0s\n",
            "[CV 4/5] END C=1, epsilon=0.2, gamma=1, kernel=linear;, score=0.998 total time=   0.0s\n",
            "[CV 5/5] END C=1, epsilon=0.2, gamma=1, kernel=linear;, score=0.998 total time=   0.1s\n",
            "[CV 1/5] END C=1, epsilon=0.2, gamma=0.1, kernel=linear;, score=0.999 total time=   0.0s\n",
            "[CV 2/5] END C=1, epsilon=0.2, gamma=0.1, kernel=linear;, score=0.999 total time=   0.1s\n",
            "[CV 3/5] END C=1, epsilon=0.2, gamma=0.1, kernel=linear;, score=0.998 total time=   0.1s\n",
            "[CV 4/5] END C=1, epsilon=0.2, gamma=0.1, kernel=linear;, score=0.998 total time=   0.1s\n",
            "[CV 5/5] END C=1, epsilon=0.2, gamma=0.1, kernel=linear;, score=0.998 total time=   0.1s\n",
            "[CV 1/5] END C=1, epsilon=0.2, gamma=0.01, kernel=linear;, score=0.999 total time=   0.1s\n",
            "[CV 2/5] END C=1, epsilon=0.2, gamma=0.01, kernel=linear;, score=0.999 total time=   0.1s\n",
            "[CV 3/5] END C=1, epsilon=0.2, gamma=0.01, kernel=linear;, score=0.998 total time=   0.1s\n",
            "[CV 4/5] END C=1, epsilon=0.2, gamma=0.01, kernel=linear;, score=0.998 total time=   0.1s\n",
            "[CV 5/5] END C=1, epsilon=0.2, gamma=0.01, kernel=linear;, score=0.998 total time=   0.1s\n",
            "[CV 1/5] END C=1, epsilon=0.2, gamma=0.001, kernel=linear;, score=0.999 total time=   0.1s\n",
            "[CV 2/5] END C=1, epsilon=0.2, gamma=0.001, kernel=linear;, score=0.999 total time=   0.1s\n",
            "[CV 3/5] END C=1, epsilon=0.2, gamma=0.001, kernel=linear;, score=0.998 total time=   0.1s\n",
            "[CV 4/5] END C=1, epsilon=0.2, gamma=0.001, kernel=linear;, score=0.998 total time=   0.0s\n",
            "[CV 5/5] END C=1, epsilon=0.2, gamma=0.001, kernel=linear;, score=0.998 total time=   0.1s\n",
            "[CV 1/5] END C=1, epsilon=0.2, gamma=0.0001, kernel=linear;, score=0.999 total time=   0.0s\n",
            "[CV 2/5] END C=1, epsilon=0.2, gamma=0.0001, kernel=linear;, score=0.999 total time=   0.0s\n",
            "[CV 3/5] END C=1, epsilon=0.2, gamma=0.0001, kernel=linear;, score=0.998 total time=   0.1s\n",
            "[CV 4/5] END C=1, epsilon=0.2, gamma=0.0001, kernel=linear;, score=0.998 total time=   0.1s\n",
            "[CV 5/5] END C=1, epsilon=0.2, gamma=0.0001, kernel=linear;, score=0.998 total time=   0.0s\n",
            "[CV 1/5] END C=1, epsilon=0.3, gamma=1, kernel=linear;, score=0.999 total time=   0.0s\n",
            "[CV 2/5] END C=1, epsilon=0.3, gamma=1, kernel=linear;, score=0.999 total time=   0.1s\n",
            "[CV 3/5] END C=1, epsilon=0.3, gamma=1, kernel=linear;, score=0.998 total time=   0.1s\n",
            "[CV 4/5] END C=1, epsilon=0.3, gamma=1, kernel=linear;, score=0.998 total time=   0.1s\n",
            "[CV 5/5] END C=1, epsilon=0.3, gamma=1, kernel=linear;, score=0.998 total time=   0.1s\n",
            "[CV 1/5] END C=1, epsilon=0.3, gamma=0.1, kernel=linear;, score=0.999 total time=   0.1s\n",
            "[CV 2/5] END C=1, epsilon=0.3, gamma=0.1, kernel=linear;, score=0.999 total time=   0.1s\n",
            "[CV 3/5] END C=1, epsilon=0.3, gamma=0.1, kernel=linear;, score=0.998 total time=   0.1s\n",
            "[CV 4/5] END C=1, epsilon=0.3, gamma=0.1, kernel=linear;, score=0.998 total time=   0.1s\n",
            "[CV 5/5] END C=1, epsilon=0.3, gamma=0.1, kernel=linear;, score=0.998 total time=   0.0s\n",
            "[CV 1/5] END C=1, epsilon=0.3, gamma=0.01, kernel=linear;, score=0.999 total time=   0.0s\n",
            "[CV 2/5] END C=1, epsilon=0.3, gamma=0.01, kernel=linear;, score=0.999 total time=   0.1s\n",
            "[CV 3/5] END C=1, epsilon=0.3, gamma=0.01, kernel=linear;, score=0.998 total time=   0.1s\n",
            "[CV 4/5] END C=1, epsilon=0.3, gamma=0.01, kernel=linear;, score=0.998 total time=   0.1s\n",
            "[CV 5/5] END C=1, epsilon=0.3, gamma=0.01, kernel=linear;, score=0.998 total time=   0.1s\n",
            "[CV 1/5] END C=1, epsilon=0.3, gamma=0.001, kernel=linear;, score=0.999 total time=   0.1s\n",
            "[CV 2/5] END C=1, epsilon=0.3, gamma=0.001, kernel=linear;, score=0.999 total time=   0.1s\n",
            "[CV 3/5] END C=1, epsilon=0.3, gamma=0.001, kernel=linear;, score=0.998 total time=   0.0s\n",
            "[CV 4/5] END C=1, epsilon=0.3, gamma=0.001, kernel=linear;, score=0.998 total time=   0.1s\n",
            "[CV 5/5] END C=1, epsilon=0.3, gamma=0.001, kernel=linear;, score=0.998 total time=   0.1s\n",
            "[CV 1/5] END C=1, epsilon=0.3, gamma=0.0001, kernel=linear;, score=0.999 total time=   0.1s\n",
            "[CV 2/5] END C=1, epsilon=0.3, gamma=0.0001, kernel=linear;, score=0.999 total time=   0.1s\n",
            "[CV 3/5] END C=1, epsilon=0.3, gamma=0.0001, kernel=linear;, score=0.998 total time=   0.1s\n",
            "[CV 4/5] END C=1, epsilon=0.3, gamma=0.0001, kernel=linear;, score=0.998 total time=   0.0s\n",
            "[CV 5/5] END C=1, epsilon=0.3, gamma=0.0001, kernel=linear;, score=0.998 total time=   0.0s\n",
            "[CV 1/5] END C=10, epsilon=0.1, gamma=1, kernel=linear;, score=0.999 total time=   0.1s\n",
            "[CV 2/5] END C=10, epsilon=0.1, gamma=1, kernel=linear;, score=0.999 total time=   0.1s\n",
            "[CV 3/5] END C=10, epsilon=0.1, gamma=1, kernel=linear;, score=0.998 total time=   0.1s\n",
            "[CV 4/5] END C=10, epsilon=0.1, gamma=1, kernel=linear;, score=0.999 total time=   0.1s\n",
            "[CV 5/5] END C=10, epsilon=0.1, gamma=1, kernel=linear;, score=0.998 total time=   0.1s\n",
            "[CV 1/5] END C=10, epsilon=0.1, gamma=0.1, kernel=linear;, score=0.999 total time=   0.1s\n",
            "[CV 2/5] END C=10, epsilon=0.1, gamma=0.1, kernel=linear;, score=0.999 total time=   0.0s\n",
            "[CV 3/5] END C=10, epsilon=0.1, gamma=0.1, kernel=linear;, score=0.998 total time=   0.1s\n",
            "[CV 4/5] END C=10, epsilon=0.1, gamma=0.1, kernel=linear;, score=0.999 total time=   0.1s\n",
            "[CV 5/5] END C=10, epsilon=0.1, gamma=0.1, kernel=linear;, score=0.998 total time=   0.1s\n",
            "[CV 1/5] END C=10, epsilon=0.1, gamma=0.01, kernel=linear;, score=0.999 total time=   0.1s\n",
            "[CV 2/5] END C=10, epsilon=0.1, gamma=0.01, kernel=linear;, score=0.999 total time=   0.0s\n",
            "[CV 3/5] END C=10, epsilon=0.1, gamma=0.01, kernel=linear;, score=0.998 total time=   0.1s\n",
            "[CV 4/5] END C=10, epsilon=0.1, gamma=0.01, kernel=linear;, score=0.999 total time=   0.1s\n",
            "[CV 5/5] END C=10, epsilon=0.1, gamma=0.01, kernel=linear;, score=0.998 total time=   0.1s\n",
            "[CV 1/5] END C=10, epsilon=0.1, gamma=0.001, kernel=linear;, score=0.999 total time=   0.1s\n",
            "[CV 2/5] END C=10, epsilon=0.1, gamma=0.001, kernel=linear;, score=0.999 total time=   0.1s\n",
            "[CV 3/5] END C=10, epsilon=0.1, gamma=0.001, kernel=linear;, score=0.998 total time=   0.1s\n",
            "[CV 4/5] END C=10, epsilon=0.1, gamma=0.001, kernel=linear;, score=0.999 total time=   0.1s\n",
            "[CV 5/5] END C=10, epsilon=0.1, gamma=0.001, kernel=linear;, score=0.998 total time=   0.1s\n",
            "[CV 1/5] END C=10, epsilon=0.1, gamma=0.0001, kernel=linear;, score=0.999 total time=   0.1s\n",
            "[CV 2/5] END C=10, epsilon=0.1, gamma=0.0001, kernel=linear;, score=0.999 total time=   0.1s\n",
            "[CV 3/5] END C=10, epsilon=0.1, gamma=0.0001, kernel=linear;, score=0.998 total time=   0.1s\n",
            "[CV 4/5] END C=10, epsilon=0.1, gamma=0.0001, kernel=linear;, score=0.999 total time=   0.1s\n",
            "[CV 5/5] END C=10, epsilon=0.1, gamma=0.0001, kernel=linear;, score=0.998 total time=   0.1s\n",
            "[CV 1/5] END C=10, epsilon=0.2, gamma=1, kernel=linear;, score=0.999 total time=   0.1s\n",
            "[CV 2/5] END C=10, epsilon=0.2, gamma=1, kernel=linear;, score=0.999 total time=   0.1s\n",
            "[CV 3/5] END C=10, epsilon=0.2, gamma=1, kernel=linear;, score=0.998 total time=   0.1s\n",
            "[CV 4/5] END C=10, epsilon=0.2, gamma=1, kernel=linear;, score=0.999 total time=   0.1s\n",
            "[CV 5/5] END C=10, epsilon=0.2, gamma=1, kernel=linear;, score=0.998 total time=   0.1s\n",
            "[CV 1/5] END C=10, epsilon=0.2, gamma=0.1, kernel=linear;, score=0.999 total time=   0.1s\n",
            "[CV 2/5] END C=10, epsilon=0.2, gamma=0.1, kernel=linear;, score=0.999 total time=   0.0s\n",
            "[CV 3/5] END C=10, epsilon=0.2, gamma=0.1, kernel=linear;, score=0.998 total time=   0.1s\n",
            "[CV 4/5] END C=10, epsilon=0.2, gamma=0.1, kernel=linear;, score=0.999 total time=   0.1s\n",
            "[CV 5/5] END C=10, epsilon=0.2, gamma=0.1, kernel=linear;, score=0.998 total time=   0.1s\n",
            "[CV 1/5] END C=10, epsilon=0.2, gamma=0.01, kernel=linear;, score=0.999 total time=   0.1s\n",
            "[CV 2/5] END C=10, epsilon=0.2, gamma=0.01, kernel=linear;, score=0.999 total time=   0.1s\n",
            "[CV 3/5] END C=10, epsilon=0.2, gamma=0.01, kernel=linear;, score=0.998 total time=   0.1s\n",
            "[CV 4/5] END C=10, epsilon=0.2, gamma=0.01, kernel=linear;, score=0.999 total time=   0.1s\n",
            "[CV 5/5] END C=10, epsilon=0.2, gamma=0.01, kernel=linear;, score=0.998 total time=   0.1s\n",
            "[CV 1/5] END C=10, epsilon=0.2, gamma=0.001, kernel=linear;, score=0.999 total time=   0.1s\n",
            "[CV 2/5] END C=10, epsilon=0.2, gamma=0.001, kernel=linear;, score=0.999 total time=   0.1s\n",
            "[CV 3/5] END C=10, epsilon=0.2, gamma=0.001, kernel=linear;, score=0.998 total time=   0.1s\n",
            "[CV 4/5] END C=10, epsilon=0.2, gamma=0.001, kernel=linear;, score=0.999 total time=   0.1s\n",
            "[CV 5/5] END C=10, epsilon=0.2, gamma=0.001, kernel=linear;, score=0.998 total time=   0.1s\n",
            "[CV 1/5] END C=10, epsilon=0.2, gamma=0.0001, kernel=linear;, score=0.999 total time=   0.1s\n",
            "[CV 2/5] END C=10, epsilon=0.2, gamma=0.0001, kernel=linear;, score=0.999 total time=   0.0s\n",
            "[CV 3/5] END C=10, epsilon=0.2, gamma=0.0001, kernel=linear;, score=0.998 total time=   0.1s\n",
            "[CV 4/5] END C=10, epsilon=0.2, gamma=0.0001, kernel=linear;, score=0.999 total time=   0.1s\n",
            "[CV 5/5] END C=10, epsilon=0.2, gamma=0.0001, kernel=linear;, score=0.998 total time=   0.1s\n",
            "[CV 1/5] END C=10, epsilon=0.3, gamma=1, kernel=linear;, score=0.999 total time=   0.1s\n",
            "[CV 2/5] END C=10, epsilon=0.3, gamma=1, kernel=linear;, score=0.999 total time=   0.1s\n",
            "[CV 3/5] END C=10, epsilon=0.3, gamma=1, kernel=linear;, score=0.998 total time=   0.1s\n",
            "[CV 4/5] END C=10, epsilon=0.3, gamma=1, kernel=linear;, score=0.999 total time=   0.1s\n",
            "[CV 5/5] END C=10, epsilon=0.3, gamma=1, kernel=linear;, score=0.998 total time=   0.1s\n",
            "[CV 1/5] END C=10, epsilon=0.3, gamma=0.1, kernel=linear;, score=0.999 total time=   0.1s\n",
            "[CV 2/5] END C=10, epsilon=0.3, gamma=0.1, kernel=linear;, score=0.999 total time=   0.1s\n",
            "[CV 3/5] END C=10, epsilon=0.3, gamma=0.1, kernel=linear;, score=0.998 total time=   0.1s\n",
            "[CV 4/5] END C=10, epsilon=0.3, gamma=0.1, kernel=linear;, score=0.999 total time=   0.1s\n",
            "[CV 5/5] END C=10, epsilon=0.3, gamma=0.1, kernel=linear;, score=0.998 total time=   0.1s\n",
            "[CV 1/5] END C=10, epsilon=0.3, gamma=0.01, kernel=linear;, score=0.999 total time=   0.1s\n",
            "[CV 2/5] END C=10, epsilon=0.3, gamma=0.01, kernel=linear;, score=0.999 total time=   0.1s\n",
            "[CV 3/5] END C=10, epsilon=0.3, gamma=0.01, kernel=linear;, score=0.998 total time=   0.1s\n",
            "[CV 4/5] END C=10, epsilon=0.3, gamma=0.01, kernel=linear;, score=0.999 total time=   0.1s\n",
            "[CV 5/5] END C=10, epsilon=0.3, gamma=0.01, kernel=linear;, score=0.998 total time=   0.1s\n",
            "[CV 1/5] END C=10, epsilon=0.3, gamma=0.001, kernel=linear;, score=0.999 total time=   0.1s\n",
            "[CV 2/5] END C=10, epsilon=0.3, gamma=0.001, kernel=linear;, score=0.999 total time=   0.1s\n",
            "[CV 3/5] END C=10, epsilon=0.3, gamma=0.001, kernel=linear;, score=0.998 total time=   0.1s\n",
            "[CV 4/5] END C=10, epsilon=0.3, gamma=0.001, kernel=linear;, score=0.999 total time=   0.1s\n",
            "[CV 5/5] END C=10, epsilon=0.3, gamma=0.001, kernel=linear;, score=0.998 total time=   0.1s\n",
            "[CV 1/5] END C=10, epsilon=0.3, gamma=0.0001, kernel=linear;, score=0.999 total time=   0.1s\n",
            "[CV 2/5] END C=10, epsilon=0.3, gamma=0.0001, kernel=linear;, score=0.999 total time=   0.1s\n",
            "[CV 3/5] END C=10, epsilon=0.3, gamma=0.0001, kernel=linear;, score=0.998 total time=   0.1s\n",
            "[CV 4/5] END C=10, epsilon=0.3, gamma=0.0001, kernel=linear;, score=0.999 total time=   0.1s\n",
            "[CV 5/5] END C=10, epsilon=0.3, gamma=0.0001, kernel=linear;, score=0.998 total time=   0.1s\n",
            "[CV 1/5] END C=100, epsilon=0.1, gamma=1, kernel=linear;, score=0.999 total time=   0.2s\n",
            "[CV 2/5] END C=100, epsilon=0.1, gamma=1, kernel=linear;, score=0.999 total time=   0.2s\n",
            "[CV 3/5] END C=100, epsilon=0.1, gamma=1, kernel=linear;, score=0.998 total time=   0.2s\n",
            "[CV 4/5] END C=100, epsilon=0.1, gamma=1, kernel=linear;, score=0.999 total time=   0.2s\n",
            "[CV 5/5] END C=100, epsilon=0.1, gamma=1, kernel=linear;, score=0.998 total time=   0.2s\n",
            "[CV 1/5] END C=100, epsilon=0.1, gamma=0.1, kernel=linear;, score=0.999 total time=   0.2s\n",
            "[CV 2/5] END C=100, epsilon=0.1, gamma=0.1, kernel=linear;, score=0.999 total time=   0.2s\n",
            "[CV 3/5] END C=100, epsilon=0.1, gamma=0.1, kernel=linear;, score=0.998 total time=   0.2s\n",
            "[CV 4/5] END C=100, epsilon=0.1, gamma=0.1, kernel=linear;, score=0.999 total time=   0.2s\n",
            "[CV 5/5] END C=100, epsilon=0.1, gamma=0.1, kernel=linear;, score=0.998 total time=   0.2s\n",
            "[CV 1/5] END C=100, epsilon=0.1, gamma=0.01, kernel=linear;, score=0.999 total time=   0.2s\n",
            "[CV 2/5] END C=100, epsilon=0.1, gamma=0.01, kernel=linear;, score=0.999 total time=   0.2s\n",
            "[CV 3/5] END C=100, epsilon=0.1, gamma=0.01, kernel=linear;, score=0.998 total time=   0.2s\n",
            "[CV 4/5] END C=100, epsilon=0.1, gamma=0.01, kernel=linear;, score=0.999 total time=   0.2s\n",
            "[CV 5/5] END C=100, epsilon=0.1, gamma=0.01, kernel=linear;, score=0.998 total time=   0.2s\n",
            "[CV 1/5] END C=100, epsilon=0.1, gamma=0.001, kernel=linear;, score=0.999 total time=   0.2s\n",
            "[CV 2/5] END C=100, epsilon=0.1, gamma=0.001, kernel=linear;, score=0.999 total time=   0.2s\n",
            "[CV 3/5] END C=100, epsilon=0.1, gamma=0.001, kernel=linear;, score=0.998 total time=   0.2s\n",
            "[CV 4/5] END C=100, epsilon=0.1, gamma=0.001, kernel=linear;, score=0.999 total time=   0.2s\n",
            "[CV 5/5] END C=100, epsilon=0.1, gamma=0.001, kernel=linear;, score=0.998 total time=   0.2s\n",
            "[CV 1/5] END C=100, epsilon=0.1, gamma=0.0001, kernel=linear;, score=0.999 total time=   0.2s\n",
            "[CV 2/5] END C=100, epsilon=0.1, gamma=0.0001, kernel=linear;, score=0.999 total time=   0.2s\n",
            "[CV 3/5] END C=100, epsilon=0.1, gamma=0.0001, kernel=linear;, score=0.998 total time=   0.2s\n",
            "[CV 4/5] END C=100, epsilon=0.1, gamma=0.0001, kernel=linear;, score=0.999 total time=   0.2s\n",
            "[CV 5/5] END C=100, epsilon=0.1, gamma=0.0001, kernel=linear;, score=0.998 total time=   0.2s\n",
            "[CV 1/5] END C=100, epsilon=0.2, gamma=1, kernel=linear;, score=0.999 total time=   0.2s\n",
            "[CV 2/5] END C=100, epsilon=0.2, gamma=1, kernel=linear;, score=0.999 total time=   0.2s\n",
            "[CV 3/5] END C=100, epsilon=0.2, gamma=1, kernel=linear;, score=0.998 total time=   0.2s\n",
            "[CV 4/5] END C=100, epsilon=0.2, gamma=1, kernel=linear;, score=0.999 total time=   0.2s\n",
            "[CV 5/5] END C=100, epsilon=0.2, gamma=1, kernel=linear;, score=0.998 total time=   0.3s\n",
            "[CV 1/5] END C=100, epsilon=0.2, gamma=0.1, kernel=linear;, score=0.999 total time=   0.3s\n",
            "[CV 2/5] END C=100, epsilon=0.2, gamma=0.1, kernel=linear;, score=0.999 total time=   0.3s\n",
            "[CV 3/5] END C=100, epsilon=0.2, gamma=0.1, kernel=linear;, score=0.998 total time=   0.3s\n",
            "[CV 4/5] END C=100, epsilon=0.2, gamma=0.1, kernel=linear;, score=0.999 total time=   0.3s\n",
            "[CV 5/5] END C=100, epsilon=0.2, gamma=0.1, kernel=linear;, score=0.998 total time=   0.3s\n",
            "[CV 1/5] END C=100, epsilon=0.2, gamma=0.01, kernel=linear;, score=0.999 total time=   0.3s\n",
            "[CV 2/5] END C=100, epsilon=0.2, gamma=0.01, kernel=linear;, score=0.999 total time=   0.2s\n",
            "[CV 3/5] END C=100, epsilon=0.2, gamma=0.01, kernel=linear;, score=0.998 total time=   0.3s\n",
            "[CV 4/5] END C=100, epsilon=0.2, gamma=0.01, kernel=linear;, score=0.999 total time=   0.2s\n",
            "[CV 5/5] END C=100, epsilon=0.2, gamma=0.01, kernel=linear;, score=0.998 total time=   0.2s\n",
            "[CV 1/5] END C=100, epsilon=0.2, gamma=0.001, kernel=linear;, score=0.999 total time=   0.2s\n",
            "[CV 2/5] END C=100, epsilon=0.2, gamma=0.001, kernel=linear;, score=0.999 total time=   0.2s\n",
            "[CV 3/5] END C=100, epsilon=0.2, gamma=0.001, kernel=linear;, score=0.998 total time=   0.2s\n",
            "[CV 4/5] END C=100, epsilon=0.2, gamma=0.001, kernel=linear;, score=0.999 total time=   0.2s\n",
            "[CV 5/5] END C=100, epsilon=0.2, gamma=0.001, kernel=linear;, score=0.998 total time=   0.2s\n",
            "[CV 1/5] END C=100, epsilon=0.2, gamma=0.0001, kernel=linear;, score=0.999 total time=   0.2s\n",
            "[CV 2/5] END C=100, epsilon=0.2, gamma=0.0001, kernel=linear;, score=0.999 total time=   0.2s\n",
            "[CV 3/5] END C=100, epsilon=0.2, gamma=0.0001, kernel=linear;, score=0.998 total time=   0.2s\n",
            "[CV 4/5] END C=100, epsilon=0.2, gamma=0.0001, kernel=linear;, score=0.999 total time=   0.2s\n",
            "[CV 5/5] END C=100, epsilon=0.2, gamma=0.0001, kernel=linear;, score=0.998 total time=   0.2s\n",
            "[CV 1/5] END C=100, epsilon=0.3, gamma=1, kernel=linear;, score=0.999 total time=   0.3s\n",
            "[CV 2/5] END C=100, epsilon=0.3, gamma=1, kernel=linear;, score=0.999 total time=   0.2s\n",
            "[CV 3/5] END C=100, epsilon=0.3, gamma=1, kernel=linear;, score=0.998 total time=   0.2s\n",
            "[CV 4/5] END C=100, epsilon=0.3, gamma=1, kernel=linear;, score=0.999 total time=   0.2s\n",
            "[CV 5/5] END C=100, epsilon=0.3, gamma=1, kernel=linear;, score=0.998 total time=   0.2s\n",
            "[CV 1/5] END C=100, epsilon=0.3, gamma=0.1, kernel=linear;, score=0.999 total time=   0.3s\n",
            "[CV 2/5] END C=100, epsilon=0.3, gamma=0.1, kernel=linear;, score=0.999 total time=   0.2s\n",
            "[CV 3/5] END C=100, epsilon=0.3, gamma=0.1, kernel=linear;, score=0.998 total time=   0.2s\n",
            "[CV 4/5] END C=100, epsilon=0.3, gamma=0.1, kernel=linear;, score=0.999 total time=   0.2s\n",
            "[CV 5/5] END C=100, epsilon=0.3, gamma=0.1, kernel=linear;, score=0.998 total time=   0.2s\n",
            "[CV 1/5] END C=100, epsilon=0.3, gamma=0.01, kernel=linear;, score=0.999 total time=   0.3s\n",
            "[CV 2/5] END C=100, epsilon=0.3, gamma=0.01, kernel=linear;, score=0.999 total time=   0.2s\n",
            "[CV 3/5] END C=100, epsilon=0.3, gamma=0.01, kernel=linear;, score=0.998 total time=   0.2s\n",
            "[CV 4/5] END C=100, epsilon=0.3, gamma=0.01, kernel=linear;, score=0.999 total time=   0.2s\n",
            "[CV 5/5] END C=100, epsilon=0.3, gamma=0.01, kernel=linear;, score=0.998 total time=   0.2s\n",
            "[CV 1/5] END C=100, epsilon=0.3, gamma=0.001, kernel=linear;, score=0.999 total time=   0.3s\n",
            "[CV 2/5] END C=100, epsilon=0.3, gamma=0.001, kernel=linear;, score=0.999 total time=   0.2s\n",
            "[CV 3/5] END C=100, epsilon=0.3, gamma=0.001, kernel=linear;, score=0.998 total time=   0.2s\n",
            "[CV 4/5] END C=100, epsilon=0.3, gamma=0.001, kernel=linear;, score=0.999 total time=   0.2s\n",
            "[CV 5/5] END C=100, epsilon=0.3, gamma=0.001, kernel=linear;, score=0.998 total time=   0.2s\n",
            "[CV 1/5] END C=100, epsilon=0.3, gamma=0.0001, kernel=linear;, score=0.999 total time=   0.3s\n",
            "[CV 2/5] END C=100, epsilon=0.3, gamma=0.0001, kernel=linear;, score=0.999 total time=   0.3s\n",
            "[CV 3/5] END C=100, epsilon=0.3, gamma=0.0001, kernel=linear;, score=0.998 total time=   0.2s\n",
            "[CV 4/5] END C=100, epsilon=0.3, gamma=0.0001, kernel=linear;, score=0.999 total time=   0.2s\n",
            "[CV 5/5] END C=100, epsilon=0.3, gamma=0.0001, kernel=linear;, score=0.998 total time=   0.1s\n",
            "[CV 1/5] END C=1000, epsilon=0.1, gamma=1, kernel=linear;, score=0.999 total time=   2.1s\n",
            "[CV 2/5] END C=1000, epsilon=0.1, gamma=1, kernel=linear;, score=0.999 total time=   2.0s\n",
            "[CV 3/5] END C=1000, epsilon=0.1, gamma=1, kernel=linear;, score=0.998 total time=   2.4s\n",
            "[CV 4/5] END C=1000, epsilon=0.1, gamma=1, kernel=linear;, score=0.999 total time=   1.3s\n",
            "[CV 5/5] END C=1000, epsilon=0.1, gamma=1, kernel=linear;, score=0.998 total time=   0.7s\n",
            "[CV 1/5] END C=1000, epsilon=0.1, gamma=0.1, kernel=linear;, score=0.999 total time=   0.6s\n",
            "[CV 2/5] END C=1000, epsilon=0.1, gamma=0.1, kernel=linear;, score=0.999 total time=   0.6s\n",
            "[CV 3/5] END C=1000, epsilon=0.1, gamma=0.1, kernel=linear;, score=0.998 total time=   1.6s\n",
            "[CV 4/5] END C=1000, epsilon=0.1, gamma=0.1, kernel=linear;, score=0.999 total time=   1.2s\n",
            "[CV 5/5] END C=1000, epsilon=0.1, gamma=0.1, kernel=linear;, score=0.998 total time=   0.9s\n",
            "[CV 1/5] END C=1000, epsilon=0.1, gamma=0.01, kernel=linear;, score=0.999 total time=   0.6s\n",
            "[CV 2/5] END C=1000, epsilon=0.1, gamma=0.01, kernel=linear;, score=0.999 total time=   0.5s\n",
            "[CV 3/5] END C=1000, epsilon=0.1, gamma=0.01, kernel=linear;, score=0.998 total time=   0.6s\n",
            "[CV 4/5] END C=1000, epsilon=0.1, gamma=0.01, kernel=linear;, score=0.999 total time=   0.6s\n",
            "[CV 5/5] END C=1000, epsilon=0.1, gamma=0.01, kernel=linear;, score=0.998 total time=   1.3s\n",
            "[CV 1/5] END C=1000, epsilon=0.1, gamma=0.001, kernel=linear;, score=0.999 total time=   1.8s\n",
            "[CV 2/5] END C=1000, epsilon=0.1, gamma=0.001, kernel=linear;, score=0.999 total time=   0.8s\n",
            "[CV 3/5] END C=1000, epsilon=0.1, gamma=0.001, kernel=linear;, score=0.998 total time=   0.7s\n",
            "[CV 4/5] END C=1000, epsilon=0.1, gamma=0.001, kernel=linear;, score=0.999 total time=   0.8s\n",
            "[CV 5/5] END C=1000, epsilon=0.1, gamma=0.001, kernel=linear;, score=0.998 total time=   0.7s\n",
            "[CV 1/5] END C=1000, epsilon=0.1, gamma=0.0001, kernel=linear;, score=0.999 total time=   1.3s\n",
            "[CV 2/5] END C=1000, epsilon=0.1, gamma=0.0001, kernel=linear;, score=0.999 total time=   0.8s\n",
            "[CV 3/5] END C=1000, epsilon=0.1, gamma=0.0001, kernel=linear;, score=0.998 total time=   0.8s\n",
            "[CV 4/5] END C=1000, epsilon=0.1, gamma=0.0001, kernel=linear;, score=0.999 total time=   0.9s\n",
            "[CV 5/5] END C=1000, epsilon=0.1, gamma=0.0001, kernel=linear;, score=0.998 total time=   0.7s\n",
            "[CV 1/5] END C=1000, epsilon=0.2, gamma=1, kernel=linear;, score=0.999 total time=   0.8s\n",
            "[CV 2/5] END C=1000, epsilon=0.2, gamma=1, kernel=linear;, score=0.999 total time=   0.7s\n",
            "[CV 3/5] END C=1000, epsilon=0.2, gamma=1, kernel=linear;, score=0.998 total time=   1.6s\n",
            "[CV 4/5] END C=1000, epsilon=0.2, gamma=1, kernel=linear;, score=0.999 total time=   1.8s\n",
            "[CV 5/5] END C=1000, epsilon=0.2, gamma=1, kernel=linear;, score=0.998 total time=   1.1s\n",
            "[CV 1/5] END C=1000, epsilon=0.2, gamma=0.1, kernel=linear;, score=0.999 total time=   1.0s\n",
            "[CV 2/5] END C=1000, epsilon=0.2, gamma=0.1, kernel=linear;, score=0.999 total time=   1.0s\n",
            "[CV 3/5] END C=1000, epsilon=0.2, gamma=0.1, kernel=linear;, score=0.998 total time=   1.0s\n",
            "[CV 4/5] END C=1000, epsilon=0.2, gamma=0.1, kernel=linear;, score=0.999 total time=   1.1s\n",
            "[CV 5/5] END C=1000, epsilon=0.2, gamma=0.1, kernel=linear;, score=0.998 total time=   1.3s\n",
            "[CV 1/5] END C=1000, epsilon=0.2, gamma=0.01, kernel=linear;, score=0.999 total time=   1.0s\n",
            "[CV 2/5] END C=1000, epsilon=0.2, gamma=0.01, kernel=linear;, score=0.999 total time=   1.1s\n",
            "[CV 3/5] END C=1000, epsilon=0.2, gamma=0.01, kernel=linear;, score=0.998 total time=   1.2s\n",
            "[CV 4/5] END C=1000, epsilon=0.2, gamma=0.01, kernel=linear;, score=0.999 total time=   1.8s\n",
            "[CV 5/5] END C=1000, epsilon=0.2, gamma=0.01, kernel=linear;, score=0.998 total time=   1.6s\n",
            "[CV 1/5] END C=1000, epsilon=0.2, gamma=0.001, kernel=linear;, score=0.999 total time=   1.0s\n",
            "[CV 2/5] END C=1000, epsilon=0.2, gamma=0.001, kernel=linear;, score=0.999 total time=   1.0s\n",
            "[CV 3/5] END C=1000, epsilon=0.2, gamma=0.001, kernel=linear;, score=0.998 total time=   1.3s\n",
            "[CV 4/5] END C=1000, epsilon=0.2, gamma=0.001, kernel=linear;, score=0.999 total time=   1.1s\n",
            "[CV 5/5] END C=1000, epsilon=0.2, gamma=0.001, kernel=linear;, score=0.998 total time=   1.2s\n",
            "[CV 1/5] END C=1000, epsilon=0.2, gamma=0.0001, kernel=linear;, score=0.999 total time=   1.0s\n",
            "[CV 2/5] END C=1000, epsilon=0.2, gamma=0.0001, kernel=linear;, score=0.999 total time=   1.0s\n",
            "[CV 3/5] END C=1000, epsilon=0.2, gamma=0.0001, kernel=linear;, score=0.998 total time=   1.1s\n",
            "[CV 4/5] END C=1000, epsilon=0.2, gamma=0.0001, kernel=linear;, score=0.999 total time=   1.1s\n",
            "[CV 5/5] END C=1000, epsilon=0.2, gamma=0.0001, kernel=linear;, score=0.998 total time=   2.0s\n",
            "[CV 1/5] END C=1000, epsilon=0.3, gamma=1, kernel=linear;, score=0.999 total time=   1.4s\n",
            "[CV 2/5] END C=1000, epsilon=0.3, gamma=1, kernel=linear;, score=0.999 total time=   1.1s\n",
            "[CV 3/5] END C=1000, epsilon=0.3, gamma=1, kernel=linear;, score=0.998 total time=   1.0s\n",
            "[CV 4/5] END C=1000, epsilon=0.3, gamma=1, kernel=linear;, score=0.999 total time=   1.1s\n",
            "[CV 5/5] END C=1000, epsilon=0.3, gamma=1, kernel=linear;, score=0.998 total time=   1.1s\n",
            "[CV 1/5] END C=1000, epsilon=0.3, gamma=0.1, kernel=linear;, score=0.999 total time=   1.3s\n",
            "[CV 2/5] END C=1000, epsilon=0.3, gamma=0.1, kernel=linear;, score=0.999 total time=   1.2s\n",
            "[CV 3/5] END C=1000, epsilon=0.3, gamma=0.1, kernel=linear;, score=0.998 total time=   1.0s\n",
            "[CV 4/5] END C=1000, epsilon=0.3, gamma=0.1, kernel=linear;, score=0.999 total time=   1.0s\n",
            "[CV 5/5] END C=1000, epsilon=0.3, gamma=0.1, kernel=linear;, score=0.998 total time=   2.1s\n",
            "[CV 1/5] END C=1000, epsilon=0.3, gamma=0.01, kernel=linear;, score=0.999 total time=   1.6s\n",
            "[CV 2/5] END C=1000, epsilon=0.3, gamma=0.01, kernel=linear;, score=0.999 total time=   1.2s\n",
            "[CV 3/5] END C=1000, epsilon=0.3, gamma=0.01, kernel=linear;, score=0.998 total time=   1.1s\n",
            "[CV 4/5] END C=1000, epsilon=0.3, gamma=0.01, kernel=linear;, score=0.999 total time=   1.1s\n",
            "[CV 5/5] END C=1000, epsilon=0.3, gamma=0.01, kernel=linear;, score=0.998 total time=   1.2s\n",
            "[CV 1/5] END C=1000, epsilon=0.3, gamma=0.001, kernel=linear;, score=0.999 total time=   2.4s\n",
            "[CV 2/5] END C=1000, epsilon=0.3, gamma=0.001, kernel=linear;, score=0.999 total time=   1.2s\n",
            "[CV 3/5] END C=1000, epsilon=0.3, gamma=0.001, kernel=linear;, score=0.998 total time=   1.0s\n",
            "[CV 4/5] END C=1000, epsilon=0.3, gamma=0.001, kernel=linear;, score=0.999 total time=   1.7s\n",
            "[CV 5/5] END C=1000, epsilon=0.3, gamma=0.001, kernel=linear;, score=0.998 total time=   1.6s\n",
            "[CV 1/5] END C=1000, epsilon=0.3, gamma=0.0001, kernel=linear;, score=0.999 total time=   1.3s\n",
            "[CV 2/5] END C=1000, epsilon=0.3, gamma=0.0001, kernel=linear;, score=0.999 total time=   1.5s\n",
            "[CV 3/5] END C=1000, epsilon=0.3, gamma=0.0001, kernel=linear;, score=0.998 total time=   1.8s\n",
            "[CV 4/5] END C=1000, epsilon=0.3, gamma=0.0001, kernel=linear;, score=0.999 total time=   1.6s\n",
            "[CV 5/5] END C=1000, epsilon=0.3, gamma=0.0001, kernel=linear;, score=0.998 total time=   1.2s\n"
          ]
        },
        {
          "output_type": "execute_result",
          "data": {
            "text/plain": [
              "GridSearchCV(cv=5, estimator=SVR(),\n",
              "             param_grid={'C': [0.1, 1, 10, 100, 1000],\n",
              "                         'epsilon': [0.1, 0.2, 0.3],\n",
              "                         'gamma': [1, 0.1, 0.01, 0.001, 0.0001],\n",
              "                         'kernel': ['linear']},\n",
              "             verbose=3)"
            ],
            "text/html": [
              "<style>#sk-container-id-2 {color: black;background-color: white;}#sk-container-id-2 pre{padding: 0;}#sk-container-id-2 div.sk-toggleable {background-color: white;}#sk-container-id-2 label.sk-toggleable__label {cursor: pointer;display: block;width: 100%;margin-bottom: 0;padding: 0.3em;box-sizing: border-box;text-align: center;}#sk-container-id-2 label.sk-toggleable__label-arrow:before {content: \"▸\";float: left;margin-right: 0.25em;color: #696969;}#sk-container-id-2 label.sk-toggleable__label-arrow:hover:before {color: black;}#sk-container-id-2 div.sk-estimator:hover label.sk-toggleable__label-arrow:before {color: black;}#sk-container-id-2 div.sk-toggleable__content {max-height: 0;max-width: 0;overflow: hidden;text-align: left;background-color: #f0f8ff;}#sk-container-id-2 div.sk-toggleable__content pre {margin: 0.2em;color: black;border-radius: 0.25em;background-color: #f0f8ff;}#sk-container-id-2 input.sk-toggleable__control:checked~div.sk-toggleable__content {max-height: 200px;max-width: 100%;overflow: auto;}#sk-container-id-2 input.sk-toggleable__control:checked~label.sk-toggleable__label-arrow:before {content: \"▾\";}#sk-container-id-2 div.sk-estimator input.sk-toggleable__control:checked~label.sk-toggleable__label {background-color: #d4ebff;}#sk-container-id-2 div.sk-label input.sk-toggleable__control:checked~label.sk-toggleable__label {background-color: #d4ebff;}#sk-container-id-2 input.sk-hidden--visually {border: 0;clip: rect(1px 1px 1px 1px);clip: rect(1px, 1px, 1px, 1px);height: 1px;margin: -1px;overflow: hidden;padding: 0;position: absolute;width: 1px;}#sk-container-id-2 div.sk-estimator {font-family: monospace;background-color: #f0f8ff;border: 1px dotted black;border-radius: 0.25em;box-sizing: border-box;margin-bottom: 0.5em;}#sk-container-id-2 div.sk-estimator:hover {background-color: #d4ebff;}#sk-container-id-2 div.sk-parallel-item::after {content: \"\";width: 100%;border-bottom: 1px solid gray;flex-grow: 1;}#sk-container-id-2 div.sk-label:hover label.sk-toggleable__label {background-color: #d4ebff;}#sk-container-id-2 div.sk-serial::before {content: \"\";position: absolute;border-left: 1px solid gray;box-sizing: border-box;top: 0;bottom: 0;left: 50%;z-index: 0;}#sk-container-id-2 div.sk-serial {display: flex;flex-direction: column;align-items: center;background-color: white;padding-right: 0.2em;padding-left: 0.2em;position: relative;}#sk-container-id-2 div.sk-item {position: relative;z-index: 1;}#sk-container-id-2 div.sk-parallel {display: flex;align-items: stretch;justify-content: center;background-color: white;position: relative;}#sk-container-id-2 div.sk-item::before, #sk-container-id-2 div.sk-parallel-item::before {content: \"\";position: absolute;border-left: 1px solid gray;box-sizing: border-box;top: 0;bottom: 0;left: 50%;z-index: -1;}#sk-container-id-2 div.sk-parallel-item {display: flex;flex-direction: column;z-index: 1;position: relative;background-color: white;}#sk-container-id-2 div.sk-parallel-item:first-child::after {align-self: flex-end;width: 50%;}#sk-container-id-2 div.sk-parallel-item:last-child::after {align-self: flex-start;width: 50%;}#sk-container-id-2 div.sk-parallel-item:only-child::after {width: 0;}#sk-container-id-2 div.sk-dashed-wrapped {border: 1px dashed gray;margin: 0 0.4em 0.5em 0.4em;box-sizing: border-box;padding-bottom: 0.4em;background-color: white;}#sk-container-id-2 div.sk-label label {font-family: monospace;font-weight: bold;display: inline-block;line-height: 1.2em;}#sk-container-id-2 div.sk-label-container {text-align: center;}#sk-container-id-2 div.sk-container {/* jupyter's `normalize.less` sets `[hidden] { display: none; }` but bootstrap.min.css set `[hidden] { display: none !important; }` so we also need the `!important` here to be able to override the default hidden behavior on the sphinx rendered scikit-learn.org. See: https://github.com/scikit-learn/scikit-learn/issues/21755 */display: inline-block !important;position: relative;}#sk-container-id-2 div.sk-text-repr-fallback {display: none;}</style><div id=\"sk-container-id-2\" class=\"sk-top-container\"><div class=\"sk-text-repr-fallback\"><pre>GridSearchCV(cv=5, estimator=SVR(),\n",
              "             param_grid={&#x27;C&#x27;: [0.1, 1, 10, 100, 1000],\n",
              "                         &#x27;epsilon&#x27;: [0.1, 0.2, 0.3],\n",
              "                         &#x27;gamma&#x27;: [1, 0.1, 0.01, 0.001, 0.0001],\n",
              "                         &#x27;kernel&#x27;: [&#x27;linear&#x27;]},\n",
              "             verbose=3)</pre><b>In a Jupyter environment, please rerun this cell to show the HTML representation or trust the notebook. <br />On GitHub, the HTML representation is unable to render, please try loading this page with nbviewer.org.</b></div><div class=\"sk-container\" hidden><div class=\"sk-item sk-dashed-wrapped\"><div class=\"sk-label-container\"><div class=\"sk-label sk-toggleable\"><input class=\"sk-toggleable__control sk-hidden--visually\" id=\"sk-estimator-id-2\" type=\"checkbox\" ><label for=\"sk-estimator-id-2\" class=\"sk-toggleable__label sk-toggleable__label-arrow\">GridSearchCV</label><div class=\"sk-toggleable__content\"><pre>GridSearchCV(cv=5, estimator=SVR(),\n",
              "             param_grid={&#x27;C&#x27;: [0.1, 1, 10, 100, 1000],\n",
              "                         &#x27;epsilon&#x27;: [0.1, 0.2, 0.3],\n",
              "                         &#x27;gamma&#x27;: [1, 0.1, 0.01, 0.001, 0.0001],\n",
              "                         &#x27;kernel&#x27;: [&#x27;linear&#x27;]},\n",
              "             verbose=3)</pre></div></div></div><div class=\"sk-parallel\"><div class=\"sk-parallel-item\"><div class=\"sk-item\"><div class=\"sk-label-container\"><div class=\"sk-label sk-toggleable\"><input class=\"sk-toggleable__control sk-hidden--visually\" id=\"sk-estimator-id-3\" type=\"checkbox\" ><label for=\"sk-estimator-id-3\" class=\"sk-toggleable__label sk-toggleable__label-arrow\">estimator: SVR</label><div class=\"sk-toggleable__content\"><pre>SVR()</pre></div></div></div><div class=\"sk-serial\"><div class=\"sk-item\"><div class=\"sk-estimator sk-toggleable\"><input class=\"sk-toggleable__control sk-hidden--visually\" id=\"sk-estimator-id-4\" type=\"checkbox\" ><label for=\"sk-estimator-id-4\" class=\"sk-toggleable__label sk-toggleable__label-arrow\">SVR</label><div class=\"sk-toggleable__content\"><pre>SVR()</pre></div></div></div></div></div></div></div></div></div></div>"
            ]
          },
          "metadata": {},
          "execution_count": 29
        }
      ]
    },
    {
      "cell_type": "code",
      "source": [
        "grid.best_params_"
      ],
      "metadata": {
        "colab": {
          "base_uri": "https://localhost:8080/"
        },
        "id": "g50ZIo029fMA",
        "outputId": "56fab2d1-6663-47e2-be41-b61f15c70616"
      },
      "execution_count": 31,
      "outputs": [
        {
          "output_type": "execute_result",
          "data": {
            "text/plain": [
              "{'C': 100, 'epsilon': 0.3, 'gamma': 1, 'kernel': 'linear'}"
            ]
          },
          "metadata": {},
          "execution_count": 31
        }
      ]
    },
    {
      "cell_type": "code",
      "source": [
        "y_pred4=grid.predict(X_test)\n",
        "print(r2_score(y_test,y_pred4))"
      ],
      "metadata": {
        "colab": {
          "base_uri": "https://localhost:8080/"
        },
        "id": "V5Ol7-IR9pxg",
        "outputId": "e71d3226-b934-4468-8509-c6f106d39833"
      },
      "execution_count": 32,
      "outputs": [
        {
          "output_type": "stream",
          "name": "stdout",
          "text": [
            "0.9985382620720573\n"
          ]
        }
      ]
    },
    {
      "cell_type": "code",
      "source": [],
      "metadata": {
        "id": "CEDtkB6L9qbo"
      },
      "execution_count": null,
      "outputs": []
    }
  ]
}