{
  "nbformat": 4,
  "nbformat_minor": 0,
  "metadata": {
    "colab": {
      "provenance": []
    },
    "kernelspec": {
      "name": "python3",
      "display_name": "Python 3"
    },
    "language_info": {
      "name": "python"
    }
  },
  "cells": [
    {
      "cell_type": "markdown",
      "source": [
        "#### Generating a 1-D array within the range of 1 to 100 of size 15."
      ],
      "metadata": {
        "id": "UeE3fiIoamZK"
      }
    },
    {
      "cell_type": "code",
      "execution_count": 6,
      "metadata": {
        "colab": {
          "base_uri": "https://localhost:8080/"
        },
        "id": "Eib250hbXDSO",
        "outputId": "13580a95-2029-441a-8e22-199bc5951806"
      },
      "outputs": [
        {
          "output_type": "execute_result",
          "data": {
            "text/plain": [
              "array([65, 28, 51, 19,  5, 42, 73, 46, 72, 64, 56, 75, 27, 51, 83])"
            ]
          },
          "metadata": {},
          "execution_count": 6
        }
      ],
      "source": [
        "import numpy as np\n",
        "a=np.random.randint(1,100,15)\n",
        "a"
      ]
    },
    {
      "cell_type": "markdown",
      "source": [
        "#### Generating a matrix of shpae 6X4 and the inputs are within the range 1,100"
      ],
      "metadata": {
        "id": "tCtGeNSDbCM1"
      }
    },
    {
      "cell_type": "code",
      "source": [
        "b=np.random.randint(1,100,24).reshape(6,4)\n",
        "b"
      ],
      "metadata": {
        "colab": {
          "base_uri": "https://localhost:8080/"
        },
        "id": "ctvogMbFXuIQ",
        "outputId": "98098d5b-f239-47e7-89c4-741dbe94e71e"
      },
      "execution_count": 7,
      "outputs": [
        {
          "output_type": "execute_result",
          "data": {
            "text/plain": [
              "array([[42, 82, 70, 91],\n",
              "       [42, 75, 34,  9],\n",
              "       [33, 99, 84, 72],\n",
              "       [72, 10, 21, 29],\n",
              "       [36, 28, 84, 27],\n",
              "       [68, 49, 66, 80]])"
            ]
          },
          "metadata": {},
          "execution_count": 7
        }
      ]
    },
    {
      "cell_type": "markdown",
      "source": [
        "#### Sorting a 1-D array"
      ],
      "metadata": {
        "id": "vSFcmuNEbSgf"
      }
    },
    {
      "cell_type": "code",
      "source": [
        "np.sort(a)"
      ],
      "metadata": {
        "colab": {
          "base_uri": "https://localhost:8080/"
        },
        "id": "sn9dlV-oX_Cp",
        "outputId": "02e48688-2592-47c0-b890-023db42cf246"
      },
      "execution_count": 8,
      "outputs": [
        {
          "output_type": "execute_result",
          "data": {
            "text/plain": [
              "array([ 5, 19, 27, 28, 42, 46, 51, 51, 56, 64, 65, 72, 73, 75, 83])"
            ]
          },
          "metadata": {},
          "execution_count": 8
        }
      ]
    },
    {
      "cell_type": "markdown",
      "source": [
        "#### Sorting the previous matrix b, column-wise"
      ],
      "metadata": {
        "id": "IhcmoP0LbYMI"
      }
    },
    {
      "cell_type": "code",
      "source": [
        "np.sort(b,axis=0)"
      ],
      "metadata": {
        "colab": {
          "base_uri": "https://localhost:8080/"
        },
        "id": "HULmzC4aYEWn",
        "outputId": "07765b60-9140-44f1-e863-411a53b29c87"
      },
      "execution_count": 9,
      "outputs": [
        {
          "output_type": "execute_result",
          "data": {
            "text/plain": [
              "array([[33, 10, 21,  9],\n",
              "       [36, 28, 34, 27],\n",
              "       [42, 49, 66, 29],\n",
              "       [42, 75, 70, 72],\n",
              "       [68, 82, 84, 80],\n",
              "       [72, 99, 84, 91]])"
            ]
          },
          "metadata": {},
          "execution_count": 9
        }
      ]
    },
    {
      "cell_type": "markdown",
      "source": [
        "#### sorting the matrix b in descending order column wise"
      ],
      "metadata": {
        "id": "7pp-ESWkbjgd"
      }
    },
    {
      "cell_type": "code",
      "source": [
        "np.sort(b,axis=0)[::-1]"
      ],
      "metadata": {
        "colab": {
          "base_uri": "https://localhost:8080/"
        },
        "id": "gNtH4Nf9Z-cQ",
        "outputId": "4bb03811-1240-4f9f-a1ea-094a5a962b4e"
      },
      "execution_count": 10,
      "outputs": [
        {
          "output_type": "execute_result",
          "data": {
            "text/plain": [
              "array([[72, 99, 84, 91],\n",
              "       [68, 82, 84, 80],\n",
              "       [42, 75, 70, 72],\n",
              "       [42, 49, 66, 29],\n",
              "       [36, 28, 34, 27],\n",
              "       [33, 10, 21,  9]])"
            ]
          },
          "metadata": {},
          "execution_count": 10
        }
      ]
    },
    {
      "cell_type": "markdown",
      "source": [
        "#### Appending an element on an 1D array"
      ],
      "metadata": {
        "id": "-NUgDkkxbue-"
      }
    },
    {
      "cell_type": "code",
      "source": [
        "np.append(a,200)"
      ],
      "metadata": {
        "colab": {
          "base_uri": "https://localhost:8080/"
        },
        "id": "GLV-bUy8ac-Q",
        "outputId": "1fb458f0-da2a-4a50-d005-ad371d3d029c"
      },
      "execution_count": 11,
      "outputs": [
        {
          "output_type": "execute_result",
          "data": {
            "text/plain": [
              "array([ 65,  28,  51,  19,   5,  42,  73,  46,  72,  64,  56,  75,  27,\n",
              "        51,  83, 200])"
            ]
          },
          "metadata": {},
          "execution_count": 11
        }
      ]
    },
    {
      "cell_type": "markdown",
      "source": [
        "#### Appending one at end of each column"
      ],
      "metadata": {
        "id": "tzepiwVob3Mo"
      }
    },
    {
      "cell_type": "code",
      "source": [
        "np.append(b,np.ones((b.shape[0],1)),axis=1)"
      ],
      "metadata": {
        "colab": {
          "base_uri": "https://localhost:8080/"
        },
        "id": "Xhp6eJwNao7q",
        "outputId": "1997d70d-90f9-45a0-912b-115549473552"
      },
      "execution_count": 12,
      "outputs": [
        {
          "output_type": "execute_result",
          "data": {
            "text/plain": [
              "array([[42., 82., 70., 91.,  1.],\n",
              "       [42., 75., 34.,  9.,  1.],\n",
              "       [33., 99., 84., 72.,  1.],\n",
              "       [72., 10., 21., 29.,  1.],\n",
              "       [36., 28., 84., 27.,  1.],\n",
              "       [68., 49., 66., 80.,  1.]])"
            ]
          },
          "metadata": {},
          "execution_count": 12
        }
      ]
    },
    {
      "cell_type": "markdown",
      "source": [
        "#### Creating two 2-D arrays\n",
        "- First created an 1D array using arange and then reshaping it into 2-D matrix using reshape"
      ],
      "metadata": {
        "id": "cINMaIdSdAjI"
      }
    },
    {
      "cell_type": "code",
      "source": [
        "c=np.arange(6).reshape(2,3)\n",
        "d=np.arange(6,12).reshape(2,3)\n",
        "print(c)\n",
        "print(d)"
      ],
      "metadata": {
        "colab": {
          "base_uri": "https://localhost:8080/"
        },
        "id": "Zwe1C94qcM2Y",
        "outputId": "e36ee298-8e7c-4a2e-cc46-4d41fd784b8d"
      },
      "execution_count": 13,
      "outputs": [
        {
          "output_type": "stream",
          "name": "stdout",
          "text": [
            "[[0 1 2]\n",
            " [3 4 5]]\n",
            "[[ 6  7  8]\n",
            " [ 9 10 11]]\n"
          ]
        }
      ]
    },
    {
      "cell_type": "markdown",
      "source": [
        "#### Concatenating two matrices along the vertical axis(row-wise)\n",
        "- axis = 0 , refers vertically"
      ],
      "metadata": {
        "id": "rH95OoM7dZig"
      }
    },
    {
      "cell_type": "code",
      "source": [
        "np.concatenate((c,d),axis=0)"
      ],
      "metadata": {
        "colab": {
          "base_uri": "https://localhost:8080/"
        },
        "id": "pYKuDfQNcfh5",
        "outputId": "c68908b5-18ec-422d-bdce-97a4ef363a3c"
      },
      "execution_count": 14,
      "outputs": [
        {
          "output_type": "execute_result",
          "data": {
            "text/plain": [
              "array([[ 0,  1,  2],\n",
              "       [ 3,  4,  5],\n",
              "       [ 6,  7,  8],\n",
              "       [ 9, 10, 11]])"
            ]
          },
          "metadata": {},
          "execution_count": 14
        }
      ]
    },
    {
      "cell_type": "markdown",
      "source": [
        "#### Concatenating two matrices along the horizontal axis(column-wise)\n",
        "- axis = 1 , refers horizontally"
      ],
      "metadata": {
        "id": "4qETHxoJd51a"
      }
    },
    {
      "cell_type": "code",
      "source": [
        "np.concatenate((c,d),axis=1)"
      ],
      "metadata": {
        "colab": {
          "base_uri": "https://localhost:8080/"
        },
        "id": "sbycteydcmGY",
        "outputId": "342f028c-2c57-418f-be3c-b0a4f5363d5a"
      },
      "execution_count": 15,
      "outputs": [
        {
          "output_type": "execute_result",
          "data": {
            "text/plain": [
              "array([[ 0,  1,  2,  6,  7,  8],\n",
              "       [ 3,  4,  5,  9, 10, 11]])"
            ]
          },
          "metadata": {},
          "execution_count": 15
        }
      ]
    },
    {
      "cell_type": "markdown",
      "source": [
        "#### Finding only unique elements in an array"
      ],
      "metadata": {
        "id": "38Fq5PdOeDac"
      }
    },
    {
      "cell_type": "code",
      "source": [
        "e=np.array([1,2,3,4,42,45,342,2,3,2,2])\n",
        "np.unique(e)"
      ],
      "metadata": {
        "colab": {
          "base_uri": "https://localhost:8080/"
        },
        "id": "oaa4t_5vitMx",
        "outputId": "a5219b34-4ca0-4e97-f0a3-1fde2e501823"
      },
      "execution_count": 16,
      "outputs": [
        {
          "output_type": "execute_result",
          "data": {
            "text/plain": [
              "array([  1,   2,   3,   4,  42,  45, 342])"
            ]
          },
          "metadata": {},
          "execution_count": 16
        }
      ]
    },
    {
      "cell_type": "markdown",
      "source": [
        "#### Expanding the dimensions of an array column wise"
      ],
      "metadata": {
        "id": "lxgtgtbQeVEz"
      }
    },
    {
      "cell_type": "code",
      "source": [
        "a"
      ],
      "metadata": {
        "id": "mlJrMrqwjC3S",
        "colab": {
          "base_uri": "https://localhost:8080/"
        },
        "outputId": "fa1a698c-0c48-4de0-d97a-acdcea5888f5"
      },
      "execution_count": 17,
      "outputs": [
        {
          "output_type": "execute_result",
          "data": {
            "text/plain": [
              "array([65, 28, 51, 19,  5, 42, 73, 46, 72, 64, 56, 75, 27, 51, 83])"
            ]
          },
          "metadata": {},
          "execution_count": 17
        }
      ]
    },
    {
      "cell_type": "code",
      "source": [
        "np.expand_dims(a,axis=1)"
      ],
      "metadata": {
        "colab": {
          "base_uri": "https://localhost:8080/"
        },
        "id": "mdZdAPzQjGqx",
        "outputId": "bec5f49d-7e0d-45ff-d745-e87459186b58"
      },
      "execution_count": 18,
      "outputs": [
        {
          "output_type": "execute_result",
          "data": {
            "text/plain": [
              "array([[65],\n",
              "       [28],\n",
              "       [51],\n",
              "       [19],\n",
              "       [ 5],\n",
              "       [42],\n",
              "       [73],\n",
              "       [46],\n",
              "       [72],\n",
              "       [64],\n",
              "       [56],\n",
              "       [75],\n",
              "       [27],\n",
              "       [51],\n",
              "       [83]])"
            ]
          },
          "metadata": {},
          "execution_count": 18
        }
      ]
    },
    {
      "cell_type": "markdown",
      "source": [
        "#### Filtering using where in an array"
      ],
      "metadata": {
        "id": "ggcoW4xdebMQ"
      }
    },
    {
      "cell_type": "code",
      "source": [
        "np.where(a>50)"
      ],
      "metadata": {
        "colab": {
          "base_uri": "https://localhost:8080/"
        },
        "id": "-Zt0XJTYjpAK",
        "outputId": "b62970e2-11f4-49e7-cf29-3e02d739610d"
      },
      "execution_count": 19,
      "outputs": [
        {
          "output_type": "execute_result",
          "data": {
            "text/plain": [
              "(array([ 0,  2,  6,  8,  9, 10, 11, 13, 14]),)"
            ]
          },
          "metadata": {},
          "execution_count": 19
        }
      ]
    },
    {
      "cell_type": "markdown",
      "source": [
        "#### Filtering using where.\n",
        "- Here np.where(a>50,0,a) means if an element if greater than 50 than print the element or else print 0 instead"
      ],
      "metadata": {
        "id": "vArDrT_WeiZL"
      }
    },
    {
      "cell_type": "code",
      "source": [
        "np.where(a>50,0,a)"
      ],
      "metadata": {
        "colab": {
          "base_uri": "https://localhost:8080/"
        },
        "id": "4mEv9FQClInC",
        "outputId": "5ba3e5fd-b8fe-48aa-fb35-2412686e66a5"
      },
      "execution_count": 20,
      "outputs": [
        {
          "output_type": "execute_result",
          "data": {
            "text/plain": [
              "array([ 0, 28,  0, 19,  5, 42,  0, 46,  0,  0,  0,  0, 27,  0,  0])"
            ]
          },
          "metadata": {},
          "execution_count": 20
        }
      ]
    },
    {
      "cell_type": "code",
      "source": [
        "np.where(a%2==0,0,a)"
      ],
      "metadata": {
        "colab": {
          "base_uri": "https://localhost:8080/"
        },
        "id": "bcPbGJCcldi8",
        "outputId": "594715aa-3363-4b60-996f-38a67d4cec62"
      },
      "execution_count": 21,
      "outputs": [
        {
          "output_type": "execute_result",
          "data": {
            "text/plain": [
              "array([65,  0, 51, 19,  5,  0, 73,  0,  0,  0,  0, 75, 27, 51, 83])"
            ]
          },
          "metadata": {},
          "execution_count": 21
        }
      ]
    },
    {
      "cell_type": "markdown",
      "source": [
        "#### Returns the index with max value"
      ],
      "metadata": {
        "id": "zMv661XvfsTc"
      }
    },
    {
      "cell_type": "code",
      "source": [
        "np.argmax(a)"
      ],
      "metadata": {
        "colab": {
          "base_uri": "https://localhost:8080/"
        },
        "id": "u5rCsAwDloZT",
        "outputId": "66ce749e-1dd3-4422-de5a-d815ee261666"
      },
      "execution_count": 22,
      "outputs": [
        {
          "output_type": "execute_result",
          "data": {
            "text/plain": [
              "14"
            ]
          },
          "metadata": {},
          "execution_count": 22
        }
      ]
    },
    {
      "cell_type": "markdown",
      "source": [
        "#### Returns the index of maximum value row-wise"
      ],
      "metadata": {
        "id": "kQe_O3QDf108"
      }
    },
    {
      "cell_type": "code",
      "source": [
        "np.argmax(b,axis=0)"
      ],
      "metadata": {
        "colab": {
          "base_uri": "https://localhost:8080/"
        },
        "id": "3Y1ic5Y7oGf5",
        "outputId": "bbc52c74-7f73-45da-dac9-3bdce6cb1f46"
      },
      "execution_count": 23,
      "outputs": [
        {
          "output_type": "execute_result",
          "data": {
            "text/plain": [
              "array([3, 2, 2, 0])"
            ]
          },
          "metadata": {},
          "execution_count": 23
        }
      ]
    },
    {
      "cell_type": "code",
      "source": [
        "b"
      ],
      "metadata": {
        "colab": {
          "base_uri": "https://localhost:8080/"
        },
        "id": "G_mjZwqLockL",
        "outputId": "7787c5bd-8400-48fe-e497-dfae1aa0d4ff"
      },
      "execution_count": 24,
      "outputs": [
        {
          "output_type": "execute_result",
          "data": {
            "text/plain": [
              "array([[42, 82, 70, 91],\n",
              "       [42, 75, 34,  9],\n",
              "       [33, 99, 84, 72],\n",
              "       [72, 10, 21, 29],\n",
              "       [36, 28, 84, 27],\n",
              "       [68, 49, 66, 80]])"
            ]
          },
          "metadata": {},
          "execution_count": 24
        }
      ]
    },
    {
      "cell_type": "markdown",
      "source": [
        "#### Returns the index of maximum value column-wise"
      ],
      "metadata": {
        "id": "BUa3EzW2gFEI"
      }
    },
    {
      "cell_type": "code",
      "source": [
        "np.argmax(b,axis=1)"
      ],
      "metadata": {
        "colab": {
          "base_uri": "https://localhost:8080/"
        },
        "id": "Xq-e0Pc3oQJa",
        "outputId": "8c3a0efd-a718-4c9d-919c-da4089b1d24c"
      },
      "execution_count": 25,
      "outputs": [
        {
          "output_type": "execute_result",
          "data": {
            "text/plain": [
              "array([3, 1, 1, 0, 2, 3])"
            ]
          },
          "metadata": {},
          "execution_count": 25
        }
      ]
    },
    {
      "cell_type": "markdown",
      "source": [
        "#### Return the index of minimum value(since b is matrix and no axis is mentioned it wise give the index of min value from the matrix)"
      ],
      "metadata": {
        "id": "vqEnN45qgKLh"
      }
    },
    {
      "cell_type": "code",
      "source": [
        "np.argmin(b)"
      ],
      "metadata": {
        "colab": {
          "base_uri": "https://localhost:8080/"
        },
        "id": "CbGWm-3GospD",
        "outputId": "e4f3629f-0a31-409c-82dc-bbdf5d411ede"
      },
      "execution_count": 26,
      "outputs": [
        {
          "output_type": "execute_result",
          "data": {
            "text/plain": [
              "7"
            ]
          },
          "metadata": {},
          "execution_count": 26
        }
      ]
    },
    {
      "cell_type": "markdown",
      "source": [
        "#### Return the index of minimum value(since b is matrix and no axis is mentioned it wise give the index of max value from the matrix)"
      ],
      "metadata": {
        "id": "Qsz3LaX0gd9P"
      }
    },
    {
      "cell_type": "code",
      "source": [
        "np.argmax(b)"
      ],
      "metadata": {
        "colab": {
          "base_uri": "https://localhost:8080/"
        },
        "id": "2kALeIOooU6S",
        "outputId": "26bfd210-65d9-4aa7-c075-533d5c28c69f"
      },
      "execution_count": 27,
      "outputs": [
        {
          "output_type": "execute_result",
          "data": {
            "text/plain": [
              "9"
            ]
          },
          "metadata": {},
          "execution_count": 27
        }
      ]
    },
    {
      "cell_type": "code",
      "source": [
        "a"
      ],
      "metadata": {
        "colab": {
          "base_uri": "https://localhost:8080/"
        },
        "id": "HC9Bz6_6oyAK",
        "outputId": "fab4e48a-24d3-4f62-958b-abf5033474df"
      },
      "execution_count": 28,
      "outputs": [
        {
          "output_type": "execute_result",
          "data": {
            "text/plain": [
              "array([65, 28, 51, 19,  5, 42, 73, 46, 72, 64, 56, 75, 27, 51, 83])"
            ]
          },
          "metadata": {},
          "execution_count": 28
        }
      ]
    },
    {
      "cell_type": "markdown",
      "source": [
        "#### Cumulative sum"
      ],
      "metadata": {
        "id": "CIY-kPKjgm2u"
      }
    },
    {
      "cell_type": "code",
      "source": [
        "np.cumsum(a)"
      ],
      "metadata": {
        "colab": {
          "base_uri": "https://localhost:8080/"
        },
        "id": "dd7SuAx6pgBU",
        "outputId": "d422c777-1fdd-42c5-af33-2844f8135c12"
      },
      "execution_count": 30,
      "outputs": [
        {
          "output_type": "execute_result",
          "data": {
            "text/plain": [
              "array([ 65,  93, 144, 163, 168, 210, 283, 329, 401, 465, 521, 596, 623,\n",
              "       674, 757])"
            ]
          },
          "metadata": {},
          "execution_count": 30
        }
      ]
    },
    {
      "cell_type": "code",
      "source": [
        "b"
      ],
      "metadata": {
        "colab": {
          "base_uri": "https://localhost:8080/"
        },
        "id": "QXYVsoEGpkQ6",
        "outputId": "d3ef4891-488c-4d99-8ce1-7b7a5e3a4354"
      },
      "execution_count": 31,
      "outputs": [
        {
          "output_type": "execute_result",
          "data": {
            "text/plain": [
              "array([[42, 82, 70, 91],\n",
              "       [42, 75, 34,  9],\n",
              "       [33, 99, 84, 72],\n",
              "       [72, 10, 21, 29],\n",
              "       [36, 28, 84, 27],\n",
              "       [68, 49, 66, 80]])"
            ]
          },
          "metadata": {},
          "execution_count": 31
        }
      ]
    },
    {
      "cell_type": "code",
      "source": [
        "np.cumsum(b)"
      ],
      "metadata": {
        "colab": {
          "base_uri": "https://localhost:8080/"
        },
        "id": "JBe5poMKpmij",
        "outputId": "cf04b94a-3715-4fb4-9bce-b5cd86408617"
      },
      "execution_count": 32,
      "outputs": [
        {
          "output_type": "execute_result",
          "data": {
            "text/plain": [
              "array([  42,  124,  194,  285,  327,  402,  436,  445,  478,  577,  661,\n",
              "        733,  805,  815,  836,  865,  901,  929, 1013, 1040, 1108, 1157,\n",
              "       1223, 1303])"
            ]
          },
          "metadata": {},
          "execution_count": 32
        }
      ]
    },
    {
      "cell_type": "code",
      "source": [
        "np.cumsum(b,axis=0)"
      ],
      "metadata": {
        "colab": {
          "base_uri": "https://localhost:8080/"
        },
        "id": "sqLysvJWppxa",
        "outputId": "2759a5b1-f5a5-45d0-f373-d2efc4262ec5"
      },
      "execution_count": 33,
      "outputs": [
        {
          "output_type": "execute_result",
          "data": {
            "text/plain": [
              "array([[ 42,  82,  70,  91],\n",
              "       [ 84, 157, 104, 100],\n",
              "       [117, 256, 188, 172],\n",
              "       [189, 266, 209, 201],\n",
              "       [225, 294, 293, 228],\n",
              "       [293, 343, 359, 308]])"
            ]
          },
          "metadata": {},
          "execution_count": 33
        }
      ]
    },
    {
      "cell_type": "markdown",
      "source": [
        "#### Cumulative product"
      ],
      "metadata": {
        "id": "6nhN3ZxDgtOx"
      }
    },
    {
      "cell_type": "code",
      "source": [
        "np.cumprod(a)"
      ],
      "metadata": {
        "colab": {
          "base_uri": "https://localhost:8080/"
        },
        "id": "FGyP-6uxp-G9",
        "outputId": "b6d95df0-aed1-4585-d62c-5d5173f22408"
      },
      "execution_count": 34,
      "outputs": [
        {
          "output_type": "execute_result",
          "data": {
            "text/plain": [
              "array([                  65,                 1820,                92820,\n",
              "                    1763580,              8817900,            370351800,\n",
              "                27035681400,        1243641344400,       89542176796800,\n",
              "           5730699314995200,   320919161639731200,  5622193049270288384,\n",
              "        4225259740621373440, -5872682112824573952, -7817269447991296000])"
            ]
          },
          "metadata": {},
          "execution_count": 34
        }
      ]
    },
    {
      "cell_type": "markdown",
      "source": [
        "### Perecentile"
      ],
      "metadata": {
        "id": "eo3mo6i9gybs"
      }
    },
    {
      "cell_type": "code",
      "source": [
        "a"
      ],
      "metadata": {
        "colab": {
          "base_uri": "https://localhost:8080/"
        },
        "id": "e7_vg1tJqGez",
        "outputId": "21c8afb3-6b03-4265-db0d-48c18c7aee42"
      },
      "execution_count": 36,
      "outputs": [
        {
          "output_type": "execute_result",
          "data": {
            "text/plain": [
              "array([65, 28, 51, 19,  5, 42, 73, 46, 72, 64, 56, 75, 27, 51, 83])"
            ]
          },
          "metadata": {},
          "execution_count": 36
        }
      ]
    },
    {
      "cell_type": "code",
      "source": [
        "np.percentile(a,100)"
      ],
      "metadata": {
        "colab": {
          "base_uri": "https://localhost:8080/"
        },
        "id": "ocJ2PpGbqbS0",
        "outputId": "089d17ee-ac63-4300-e143-c99baf83c3a2"
      },
      "execution_count": 37,
      "outputs": [
        {
          "output_type": "execute_result",
          "data": {
            "text/plain": [
              "83.0"
            ]
          },
          "metadata": {},
          "execution_count": 37
        }
      ]
    },
    {
      "cell_type": "code",
      "source": [
        "np.percentile(a,50)"
      ],
      "metadata": {
        "colab": {
          "base_uri": "https://localhost:8080/"
        },
        "id": "SsjmGU1rqhBa",
        "outputId": "179abff7-3e4d-42bc-f6da-ec841b034298"
      },
      "execution_count": 38,
      "outputs": [
        {
          "output_type": "execute_result",
          "data": {
            "text/plain": [
              "51.0"
            ]
          },
          "metadata": {},
          "execution_count": 38
        }
      ]
    },
    {
      "cell_type": "markdown",
      "source": [
        "#### Fliping a numpy array"
      ],
      "metadata": {
        "id": "RPlqTXznhI4r"
      }
    },
    {
      "cell_type": "code",
      "source": [
        "a"
      ],
      "metadata": {
        "colab": {
          "base_uri": "https://localhost:8080/"
        },
        "id": "9MWRfQ5XuMdN",
        "outputId": "e74e8d84-2637-424f-da7c-e346f417ce4d"
      },
      "execution_count": 44,
      "outputs": [
        {
          "output_type": "execute_result",
          "data": {
            "text/plain": [
              "array([65, 28, 51, 19,  5, 42, 73, 46, 72, 64, 56, 75, 27, 51, 83])"
            ]
          },
          "metadata": {},
          "execution_count": 44
        }
      ]
    },
    {
      "cell_type": "code",
      "source": [
        "np.flip(a)"
      ],
      "metadata": {
        "colab": {
          "base_uri": "https://localhost:8080/"
        },
        "id": "HzjwMjmMuP18",
        "outputId": "aaf359b2-5477-41ef-d807-2ccdc8807587"
      },
      "execution_count": 45,
      "outputs": [
        {
          "output_type": "execute_result",
          "data": {
            "text/plain": [
              "array([83, 51, 27, 75, 56, 64, 72, 46, 73, 42,  5, 19, 51, 28, 65])"
            ]
          },
          "metadata": {},
          "execution_count": 45
        }
      ]
    },
    {
      "cell_type": "code",
      "source": [
        "b\n"
      ],
      "metadata": {
        "colab": {
          "base_uri": "https://localhost:8080/"
        },
        "id": "C1D6lcoGuUi0",
        "outputId": "6bf86ac9-5fd5-41d2-be59-a51b8503ee89"
      },
      "execution_count": 46,
      "outputs": [
        {
          "output_type": "execute_result",
          "data": {
            "text/plain": [
              "array([[42, 82, 70, 91],\n",
              "       [42, 75, 34,  9],\n",
              "       [33, 99, 84, 72],\n",
              "       [72, 10, 21, 29],\n",
              "       [36, 28, 84, 27],\n",
              "       [68, 49, 66, 80]])"
            ]
          },
          "metadata": {},
          "execution_count": 46
        }
      ]
    },
    {
      "cell_type": "code",
      "source": [
        "np.flip(b)"
      ],
      "metadata": {
        "colab": {
          "base_uri": "https://localhost:8080/"
        },
        "id": "-1FGe_hKuV3r",
        "outputId": "ca5b4322-600f-4269-86da-1555c2a9b047"
      },
      "execution_count": 47,
      "outputs": [
        {
          "output_type": "execute_result",
          "data": {
            "text/plain": [
              "array([[80, 66, 49, 68],\n",
              "       [27, 84, 28, 36],\n",
              "       [29, 21, 10, 72],\n",
              "       [72, 84, 99, 33],\n",
              "       [ 9, 34, 75, 42],\n",
              "       [91, 70, 82, 42]])"
            ]
          },
          "metadata": {},
          "execution_count": 47
        }
      ]
    },
    {
      "cell_type": "code",
      "source": [
        "np.flip(b,axis=0)"
      ],
      "metadata": {
        "colab": {
          "base_uri": "https://localhost:8080/"
        },
        "id": "nR3_0_MrucUM",
        "outputId": "baa9805f-9737-4479-f3fb-7c7e98c86d72"
      },
      "execution_count": 48,
      "outputs": [
        {
          "output_type": "execute_result",
          "data": {
            "text/plain": [
              "array([[68, 49, 66, 80],\n",
              "       [36, 28, 84, 27],\n",
              "       [72, 10, 21, 29],\n",
              "       [33, 99, 84, 72],\n",
              "       [42, 75, 34,  9],\n",
              "       [42, 82, 70, 91]])"
            ]
          },
          "metadata": {},
          "execution_count": 48
        }
      ]
    },
    {
      "cell_type": "code",
      "source": [
        "a"
      ],
      "metadata": {
        "colab": {
          "base_uri": "https://localhost:8080/"
        },
        "id": "qsC3K2pAuq9k",
        "outputId": "8dbf249c-6879-4a31-d738-fb0bf71c8124"
      },
      "execution_count": 49,
      "outputs": [
        {
          "output_type": "execute_result",
          "data": {
            "text/plain": [
              "array([65, 28, 51, 19,  5, 42, 73, 46, 72, 64, 56, 75, 27, 51, 83])"
            ]
          },
          "metadata": {},
          "execution_count": 49
        }
      ]
    },
    {
      "cell_type": "markdown",
      "source": [
        "#### Here we changed the values of index 0,1 in a using put(this is a permanent change)"
      ],
      "metadata": {
        "id": "SLH9Fhd1hSpK"
      }
    },
    {
      "cell_type": "code",
      "source": [
        "np.put(a,[0,1],[110,530])"
      ],
      "metadata": {
        "id": "LbjA3KhAuu-E"
      },
      "execution_count": 50,
      "outputs": []
    },
    {
      "cell_type": "code",
      "source": [
        "a"
      ],
      "metadata": {
        "colab": {
          "base_uri": "https://localhost:8080/"
        },
        "id": "8SSPu6yYu6wj",
        "outputId": "861f03a8-d603-4d94-dad4-93e33683e6d1"
      },
      "execution_count": 51,
      "outputs": [
        {
          "output_type": "execute_result",
          "data": {
            "text/plain": [
              "array([110, 530,  51,  19,   5,  42,  73,  46,  72,  64,  56,  75,  27,\n",
              "        51,  83])"
            ]
          },
          "metadata": {},
          "execution_count": 51
        }
      ]
    },
    {
      "cell_type": "markdown",
      "source": [
        "#### Deleting the value of mentioned index from a"
      ],
      "metadata": {
        "id": "64GrGp6PhiSz"
      }
    },
    {
      "cell_type": "code",
      "source": [
        "np.delete(a,0)"
      ],
      "metadata": {
        "colab": {
          "base_uri": "https://localhost:8080/"
        },
        "id": "TpxV-dG0u6aE",
        "outputId": "7b6a4f0e-f003-468d-a77c-d094ccbb0145"
      },
      "execution_count": 52,
      "outputs": [
        {
          "output_type": "execute_result",
          "data": {
            "text/plain": [
              "array([530,  51,  19,   5,  42,  73,  46,  72,  64,  56,  75,  27,  51,\n",
              "        83])"
            ]
          },
          "metadata": {},
          "execution_count": 52
        }
      ]
    },
    {
      "cell_type": "code",
      "source": [
        "np.delete(a,[0,4,6])"
      ],
      "metadata": {
        "colab": {
          "base_uri": "https://localhost:8080/"
        },
        "id": "hX5eluO8vLy8",
        "outputId": "e0409729-725e-4b59-dc0e-657e0bd46419"
      },
      "execution_count": 53,
      "outputs": [
        {
          "output_type": "execute_result",
          "data": {
            "text/plain": [
              "array([530,  51,  19,  42,  46,  72,  64,  56,  75,  27,  51,  83])"
            ]
          },
          "metadata": {},
          "execution_count": 53
        }
      ]
    },
    {
      "cell_type": "markdown",
      "source": [
        "#### Returns the union of two arrays"
      ],
      "metadata": {
        "id": "zNHkLbIchw4a"
      }
    },
    {
      "cell_type": "code",
      "source": [
        "n1=np.array([1,2,3,4,5])\n",
        "n2=np.array([6,7,8,9,10])\n",
        "np.union1d(n1,n2)"
      ],
      "metadata": {
        "colab": {
          "base_uri": "https://localhost:8080/"
        },
        "id": "-9Ziw7rsvTut",
        "outputId": "81899c52-0c47-4dcd-e2ac-95d71de02280"
      },
      "execution_count": 54,
      "outputs": [
        {
          "output_type": "execute_result",
          "data": {
            "text/plain": [
              "array([ 1,  2,  3,  4,  5,  6,  7,  8,  9, 10])"
            ]
          },
          "metadata": {},
          "execution_count": 54
        }
      ]
    },
    {
      "cell_type": "markdown",
      "source": [
        "#### Returns the intersection of two arrays"
      ],
      "metadata": {
        "id": "IlPkssF8h0xn"
      }
    },
    {
      "cell_type": "code",
      "source": [
        "np.intersect1d(n1,n2)"
      ],
      "metadata": {
        "colab": {
          "base_uri": "https://localhost:8080/"
        },
        "id": "fjn8sxSTv2h0",
        "outputId": "0fc3c4ce-0545-4614-a3e0-182ea77d453e"
      },
      "execution_count": 55,
      "outputs": [
        {
          "output_type": "execute_result",
          "data": {
            "text/plain": [
              "array([], dtype=int64)"
            ]
          },
          "metadata": {},
          "execution_count": 55
        }
      ]
    },
    {
      "cell_type": "code",
      "source": [
        "a"
      ],
      "metadata": {
        "colab": {
          "base_uri": "https://localhost:8080/"
        },
        "id": "js0zuBjxwU6G",
        "outputId": "336663b1-bfcd-4433-974b-a784e147a56b"
      },
      "execution_count": 57,
      "outputs": [
        {
          "output_type": "execute_result",
          "data": {
            "text/plain": [
              "array([110, 530,  51,  19,   5,  42,  73,  46,  72,  64,  56,  75,  27,\n",
              "        51,  83])"
            ]
          },
          "metadata": {},
          "execution_count": 57
        }
      ]
    },
    {
      "cell_type": "markdown",
      "source": [
        "#### Here we have set a range between 25 and 75\n",
        "- If a value is less than 25 then it is replaced by 25 and if it is greater than 75 then it is replaced by 75 and if it's between then the number is taken as it is."
      ],
      "metadata": {
        "id": "GpHjB9a5h9FG"
      }
    },
    {
      "cell_type": "code",
      "source": [
        "np.clip(a,a_min=25,a_max=75)"
      ],
      "metadata": {
        "colab": {
          "base_uri": "https://localhost:8080/"
        },
        "id": "dkFsMPhewYfF",
        "outputId": "3495a735-7f23-4913-f73d-358cfadb80bb"
      },
      "execution_count": 58,
      "outputs": [
        {
          "output_type": "execute_result",
          "data": {
            "text/plain": [
              "array([75, 75, 51, 25, 25, 42, 73, 46, 72, 64, 56, 75, 27, 51, 75])"
            ]
          },
          "metadata": {},
          "execution_count": 58
        }
      ]
    },
    {
      "cell_type": "code",
      "source": [],
      "metadata": {
        "id": "yT2tMkcgfSOg"
      },
      "execution_count": 58,
      "outputs": []
    }
  ]
}